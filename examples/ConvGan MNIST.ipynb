{
 "cells": [
  {
   "cell_type": "code",
   "execution_count": 1,
   "metadata": {},
   "outputs": [],
   "source": [
    "import torch\n",
    "from torch import nn\n",
    "from torch.optim import SGD, Adam\n",
    "from annpy.models.gan import GAN\n",
    "from annpy.training import GANTrainer\n",
    "from torchvision import transforms\n",
    "from torch.utils.data import DataLoader\n",
    "from torchvision.datasets import MNIST\n",
    "from torchtrainer.callbacks import Logger\n",
    "from torchtrainer.utils.data.datasets import UnsuperviseDataset\n",
    "import matplotlib.pyplot as plt\n",
    "\n",
    "\n",
    "WIDTH=28\n",
    "HEIGHT=28\n",
    "USE_CUDA=True"
   ]
  },
  {
   "cell_type": "code",
   "execution_count": 2,
   "metadata": {},
   "outputs": [],
   "source": [
    "class Discriminator(nn.Module):\n",
    "    \"\"\" GAN Model for generate MNIST digits \"\"\"\n",
    "    def __init__(self, last_act=None):\n",
    "        super(Discriminator, self).__init__()\n",
    "\n",
    "        self._filter = nn.Sequential(nn.Conv2d(in_channels=1, out_channels=32,kernel_size=5,padding=0,stride=1),\n",
    "                                          nn.BatchNorm2d(32),\n",
    "                                          nn.LeakyReLU(inplace=True),\n",
    "                                          nn.Dropout(0.5),\n",
    "                                          nn.MaxPool2d(2),\n",
    "                                          nn.Conv2d(in_channels=32, out_channels=64, kernel_size=3, padding=1, stride=1),\n",
    "                                          nn.BatchNorm2d(64),\n",
    "                                          nn.LeakyReLU(inplace=True),\n",
    "                                          nn.Dropout(0.5),\n",
    "                                          nn.MaxPool2d(2))\n",
    "                                          # nn.Dropout(0.5))\n",
    "        self._classifier = nn.Sequential(nn.Linear(6*6*64, 1),\n",
    "                                         nn.Dropout(0.2)\n",
    "                                         )\n",
    "\n",
    "    def forward(self, x):\n",
    "        x = self._filter(x)\n",
    "        # print(x.shape)\n",
    "        x = x.view(x.shape[0], -1)\n",
    "        x = self._classifier(x)\n",
    "        return x\n",
    "\n",
    "    def filter_params(self, cond):\n",
    "        params = []\n",
    "        for name, p in self.named_parameters():\n",
    "            if cond(name):\n",
    "                params.append(p)\n",
    "        return params\n",
    "\n",
    "    def weights_parameters(self):\n",
    "        return self.filter_params(lambda name: not ('bias' in name))\n",
    "\n",
    "    def bias_parameters(self):\n",
    "        return self.filter_params(lambda name: 'bias' in name)\n",
    "\n",
    "    @property\n",
    "    def input_shape(self):\n",
    "        return (1, 28, 28)\n",
    "\n",
    "class Generator(nn.Module):\n",
    "    \"\"\" GAN Model for generate MNIST digits \"\"\"\n",
    "    def __init__(self, last_act=None):\n",
    "        super(Generator, self).__init__()\n",
    "        self._layers = nn.Sequential(nn.ConvTranspose2d(in_channels=64, out_channels=128, kernel_size=8, stride=4, padding=0),\n",
    "                                     nn.BatchNorm2d(128),\n",
    "                                     nn.LeakyReLU(inplace=True),\n",
    "                                     nn.Dropout(0.5),\n",
    "                                     nn.ConvTranspose2d(in_channels=128, out_channels=256, kernel_size=6, stride=3, padding=0),\n",
    "                                     nn.BatchNorm2d(256),\n",
    "                                     nn.LeakyReLU(inplace=True),\n",
    "                                     nn.Dropout(0.5),\n",
    "                                     nn.ConvTranspose2d(in_channels=256, out_channels=1, kernel_size=2, stride=1, padding=0),\n",
    "                                     nn.BatchNorm2d(1),\n",
    "                                     # # nn.BatchNorm2d(1),\n",
    "                                     nn.Sigmoid(),\n",
    "                                     # nn.Dropout(0.2),\n",
    "                                     )\n",
    "\n",
    "\n",
    "    def forward(self, x):\n",
    "        x = x.view(-1,64,1, 1)\n",
    "        return self._layers(x)\n",
    "\n",
    "    def filter_params(self, cond):\n",
    "        params = []\n",
    "        for name, p in self.named_parameters():\n",
    "            if cond(name):\n",
    "                params.append(p)\n",
    "        return params\n",
    "\n",
    "    def weights_parameters(self):\n",
    "        return self.filter_params(lambda name: not ('bias' in name))\n",
    "\n",
    "    def bias_parameters(self):\n",
    "        return self.filter_params(lambda name: 'bias' in name)\n",
    "    \n",
    "    @property\n",
    "    def input_shape(self):\n",
    "        return (64, )"
   ]
  },
  {
   "cell_type": "code",
   "execution_count": 3,
   "metadata": {},
   "outputs": [],
   "source": [
    "gen = Generator()\n",
    "dis = Discriminator()"
   ]
  },
  {
   "cell_type": "code",
   "execution_count": 4,
   "metadata": {},
   "outputs": [
    {
     "data": {
      "text/plain": [
       "Generator(\n",
       "  (_layers): Sequential(\n",
       "    (0): ConvTranspose2d (64, 128, kernel_size=(8, 8), stride=(4, 4))\n",
       "    (1): BatchNorm2d(128, eps=1e-05, momentum=0.1, affine=True)\n",
       "    (2): LeakyReLU(0.01, inplace)\n",
       "    (3): Dropout(p=0.5)\n",
       "    (4): ConvTranspose2d (128, 256, kernel_size=(6, 6), stride=(3, 3))\n",
       "    (5): BatchNorm2d(256, eps=1e-05, momentum=0.1, affine=True)\n",
       "    (6): LeakyReLU(0.01, inplace)\n",
       "    (7): Dropout(p=0.5)\n",
       "    (8): ConvTranspose2d (256, 1, kernel_size=(2, 2), stride=(1, 1))\n",
       "    (9): BatchNorm2d(1, eps=1e-05, momentum=0.1, affine=True)\n",
       "    (10): Sigmoid()\n",
       "  )\n",
       ")"
      ]
     },
     "execution_count": 4,
     "metadata": {},
     "output_type": "execute_result"
    }
   ],
   "source": [
    "gen"
   ]
  },
  {
   "cell_type": "code",
   "execution_count": 5,
   "metadata": {},
   "outputs": [
    {
     "data": {
      "text/plain": [
       "Discriminator(\n",
       "  (_filter): Sequential(\n",
       "    (0): Conv2d (1, 32, kernel_size=(5, 5), stride=(1, 1))\n",
       "    (1): BatchNorm2d(32, eps=1e-05, momentum=0.1, affine=True)\n",
       "    (2): LeakyReLU(0.01, inplace)\n",
       "    (3): Dropout(p=0.5)\n",
       "    (4): MaxPool2d(kernel_size=(2, 2), stride=(2, 2), dilation=(1, 1))\n",
       "    (5): Conv2d (32, 64, kernel_size=(3, 3), stride=(1, 1), padding=(1, 1))\n",
       "    (6): BatchNorm2d(64, eps=1e-05, momentum=0.1, affine=True)\n",
       "    (7): LeakyReLU(0.01, inplace)\n",
       "    (8): Dropout(p=0.5)\n",
       "    (9): MaxPool2d(kernel_size=(2, 2), stride=(2, 2), dilation=(1, 1))\n",
       "  )\n",
       "  (_classifier): Sequential(\n",
       "    (0): Linear(in_features=2304, out_features=1)\n",
       "    (1): Dropout(p=0.2)\n",
       "  )\n",
       ")"
      ]
     },
     "execution_count": 5,
     "metadata": {},
     "output_type": "execute_result"
    }
   ],
   "source": [
    "dis"
   ]
  },
  {
   "cell_type": "code",
   "execution_count": 6,
   "metadata": {},
   "outputs": [],
   "source": [
    "m = GAN(discriminator=dis, generator=gen)"
   ]
  },
  {
   "cell_type": "code",
   "execution_count": 7,
   "metadata": {},
   "outputs": [],
   "source": [
    "def showsample():\n",
    "    sample = m.sample(1).data[0]\n",
    "    im = sample.view(WIDTH,HEIGHT)\n",
    "    if USE_CUDA:\n",
    "        im = im.cpu()\n",
    "    plt.imshow(im.numpy())\n",
    "    plt.colorbar()\n",
    "    plt.show()"
   ]
  },
  {
   "cell_type": "code",
   "execution_count": 8,
   "metadata": {},
   "outputs": [],
   "source": [
    "g_optimizer = Adam(m.generator.parameters(), lr=1e-2, weight_decay=0, betas=(0.5, 0.999))\n",
    "d_optimizer = Adam(m.discriminator.parameters(), lr=1e-2, weight_decay=0, betas=(0.5, 0.999))"
   ]
  },
  {
   "cell_type": "code",
   "execution_count": 9,
   "metadata": {},
   "outputs": [],
   "source": [
    "trainer = GANTrainer(m,\n",
    "                     d_optimizer,\n",
    "                     g_optimizer,\n",
    "                     callbacks=[Logger()],\n",
    "                     logging_frecuency=50,\n",
    "                     soft_labels_eps=0)"
   ]
  },
  {
   "cell_type": "code",
   "execution_count": 10,
   "metadata": {},
   "outputs": [],
   "source": [
    "transform = transforms.Compose([transforms.Resize((WIDTH, HEIGHT)),\n",
    "                                transforms.ToTensor()])"
   ]
  },
  {
   "cell_type": "code",
   "execution_count": 11,
   "metadata": {},
   "outputs": [],
   "source": [
    "train_ds = UnsuperviseDataset(MNIST(root='data', download=True, train=True, transform=transform))\n",
    "test_ds = UnsuperviseDataset(MNIST(root='data', download=False, train=False, transform=transform))"
   ]
  },
  {
   "cell_type": "code",
   "execution_count": 12,
   "metadata": {},
   "outputs": [
    {
     "data": {
      "text/plain": [
       "torch.Size([1, 28, 28])"
      ]
     },
     "execution_count": 12,
     "metadata": {},
     "output_type": "execute_result"
    }
   ],
   "source": [
    "train_ds[0].shape"
   ]
  },
  {
   "cell_type": "code",
   "execution_count": 13,
   "metadata": {},
   "outputs": [
    {
     "data": {
      "image/png": "[encoded data removed]",
      "text/plain": [
       "<matplotlib.figure.Figure at 0x48460f0>"
      ]
     },
     "metadata": {},
     "output_type": "display_data"
    }
   ],
   "source": [
    "plt.imshow(train_ds[0].view(WIDTH, HEIGHT).numpy())\n",
    "plt.show()"
   ]
  },
  {
   "cell_type": "code",
   "execution_count": 14,
   "metadata": {},
   "outputs": [],
   "source": [
    "dataloader = DataLoader(train_ds, batch_size=256)\n",
    "test_dl = DataLoader(test_ds, batch_size=256)"
   ]
  },
  {
   "cell_type": "code",
   "execution_count": 15,
   "metadata": {},
   "outputs": [],
   "source": [
    "if USE_CUDA:\n",
    "    trainer.cuda()"
   ]
  },
  {
   "cell_type": "code",
   "execution_count": 16,
   "metadata": {},
   "outputs": [
    {
     "name": "stdout",
     "output_type": "stream",
     "text": [
      "epoch: 0/1,\tstep: 49/235,\ttrain_g_loss: 1.726,\ttrain_loss: 3.206,\ttrain_d_loss: 1.480\n",
      "epoch: 0/1,\tstep: 99/235,\ttrain_g_loss: 0.758,\ttrain_loss: 1.530,\ttrain_d_loss: 0.772\n",
      "epoch: 0/1,\tstep: 149/235,\ttrain_g_loss: 0.611,\ttrain_loss: 1.222,\ttrain_d_loss: 0.611\n",
      "epoch: 0/1,\tstep: 199/235,\ttrain_g_loss: 0.571,\ttrain_loss: 1.170,\ttrain_d_loss: 0.598\n",
      "epoch: 0/1,\tstep: 234/235,\tval_loss: 3.803,\ttrain_d_loss: 0.557,\ttrain_loss: 1.118,\ttrain_g_loss: 0.561,\tval_d_loss: 1.247,\tval_g_loss: 2.556\n"
     ]
    }
   ],
   "source": [
    "trainer.train(dataloader,\n",
    "              valid_dataloader=test_dl,\n",
    "              epochs=1)"
   ]
  },
  {
   "cell_type": "code",
   "execution_count": 18,
   "metadata": {},
   "outputs": [
    {
     "data": {
      "image/png": "[encoded data removed]",
      "text/plain": [
       "<matplotlib.figure.Figure at 0x47d6d30>"
      ]
     },
     "metadata": {},
     "output_type": "display_data"
    }
   ],
   "source": [
    "m.eval()\n",
    "showsample()"
   ]
  },
  {
   "cell_type": "code",
   "execution_count": 20,
   "metadata": {},
   "outputs": [
    {
     "name": "stdout",
     "output_type": "stream",
     "text": [
      "epoch: 0/1,\tstep: 49/235,\ttrain_g_loss: 0.503,\ttrain_loss: 1.002,\ttrain_d_loss: 0.499\n",
      "epoch: 0/1,\tstep: 99/235,\ttrain_g_loss: 0.454,\ttrain_loss: 0.915,\ttrain_d_loss: 0.460\n",
      "epoch: 0/1,\tstep: 149/235,\ttrain_g_loss: 0.555,\ttrain_loss: 1.106,\ttrain_d_loss: 0.551\n",
      "epoch: 0/1,\tstep: 199/235,\ttrain_g_loss: 0.517,\ttrain_loss: 1.048,\ttrain_d_loss: 0.530\n",
      "epoch: 0/1,\tstep: 234/235,\tval_loss: 1.531,\ttrain_d_loss: 0.437,\ttrain_loss: 0.887,\ttrain_g_loss: 0.451,\tval_d_loss: 0.420,\tval_g_loss: 1.111\n"
     ]
    }
   ],
   "source": [
    "trainer.train(dataloader,\n",
    "              valid_dataloader=test_dl,\n",
    "              epochs=1)"
   ]
  },
  {
   "cell_type": "code",
   "execution_count": 22,
   "metadata": {},
   "outputs": [
    {
     "data": {
      "image/png": "[encoded data removed]",
      "text/plain": [
       "<matplotlib.figure.Figure at 0xe5bbd30>"
      ]
     },
     "metadata": {},
     "output_type": "display_data"
    }
   ],
   "source": [
    "m.eval()\n",
    "showsample()"
   ]
  },
  {
   "cell_type": "code",
   "execution_count": 24,
   "metadata": {},
   "outputs": [
    {
     "name": "stdout",
     "output_type": "stream",
     "text": [
      "epoch: 0/40,\tstep: 49/235,\ttrain_g_loss: 0.432,\ttrain_loss: 0.871,\ttrain_d_loss: 0.439\n",
      "epoch: 0/40,\tstep: 99/235,\ttrain_g_loss: 0.489,\ttrain_loss: 1.037,\ttrain_d_loss: 0.548\n",
      "epoch: 0/40,\tstep: 149/235,\ttrain_g_loss: 0.491,\ttrain_loss: 0.980,\ttrain_d_loss: 0.489\n",
      "epoch: 0/40,\tstep: 199/235,\ttrain_g_loss: 0.433,\ttrain_loss: 0.871,\ttrain_d_loss: 0.438\n",
      "epoch: 0/40,\tstep: 234/235,\tval_loss: 1.623,\ttrain_d_loss: 0.419,\ttrain_loss: 0.825,\ttrain_g_loss: 0.406,\tval_d_loss: 0.215,\tval_g_loss: 1.408\n",
      "epoch: 1/40,\tstep: 49/235,\ttrain_g_loss: 0.424,\ttrain_loss: 0.868,\ttrain_d_loss: 0.443\n",
      "epoch: 1/40,\tstep: 99/235,\ttrain_g_loss: 0.401,\ttrain_loss: 0.826,\ttrain_d_loss: 0.425\n",
      "epoch: 1/40,\tstep: 149/235,\ttrain_g_loss: 0.402,\ttrain_loss: 0.833,\ttrain_d_loss: 0.431\n",
      "epoch: 1/40,\tstep: 199/235,\ttrain_g_loss: 0.382,\ttrain_loss: 0.757,\ttrain_d_loss: 0.375\n",
      "epoch: 1/40,\tstep: 234/235,\tval_loss: 1.152,\ttrain_d_loss: 0.382,\ttrain_loss: 0.781,\ttrain_g_loss: 0.399,\tval_d_loss: 0.365,\tval_g_loss: 0.787\n",
      "epoch: 2/40,\tstep: 49/235,\ttrain_g_loss: 0.414,\ttrain_loss: 0.862,\ttrain_d_loss: 0.447\n",
      "epoch: 2/40,\tstep: 99/235,\ttrain_g_loss: 0.355,\ttrain_loss: 0.718,\ttrain_d_loss: 0.363\n",
      "epoch: 2/40,\tstep: 149/235,\ttrain_g_loss: 0.370,\ttrain_loss: 0.744,\ttrain_d_loss: 0.374\n",
      "epoch: 2/40,\tstep: 199/235,\ttrain_g_loss: 0.382,\ttrain_loss: 0.773,\ttrain_d_loss: 0.392\n",
      "epoch: 2/40,\tstep: 234/235,\tval_loss: 1.331,\ttrain_d_loss: 0.443,\ttrain_loss: 0.870,\ttrain_g_loss: 0.428,\tval_d_loss: 0.341,\tval_g_loss: 0.990\n",
      "epoch: 3/40,\tstep: 49/235,\ttrain_g_loss: 0.434,\ttrain_loss: 0.864,\ttrain_d_loss: 0.430\n",
      "epoch: 3/40,\tstep: 99/235,\ttrain_g_loss: 0.335,\ttrain_loss: 0.679,\ttrain_d_loss: 0.344\n",
      "epoch: 3/40,\tstep: 149/235,\ttrain_g_loss: 0.394,\ttrain_loss: 0.792,\ttrain_d_loss: 0.398\n",
      "epoch: 3/40,\tstep: 199/235,\ttrain_g_loss: 0.347,\ttrain_loss: 0.699,\ttrain_d_loss: 0.352\n",
      "epoch: 3/40,\tstep: 234/235,\tval_loss: 0.961,\ttrain_d_loss: 0.352,\ttrain_loss: 0.729,\ttrain_g_loss: 0.378,\tval_d_loss: 0.630,\tval_g_loss: 0.331\n",
      "epoch: 4/40,\tstep: 49/235,\ttrain_g_loss: 0.344,\ttrain_loss: 0.725,\ttrain_d_loss: 0.381\n",
      "epoch: 4/40,\tstep: 99/235,\ttrain_g_loss: 0.346,\ttrain_loss: 0.704,\ttrain_d_loss: 0.358\n",
      "epoch: 4/40,\tstep: 149/235,\ttrain_g_loss: 0.350,\ttrain_loss: 0.728,\ttrain_d_loss: 0.378\n",
      "epoch: 4/40,\tstep: 199/235,\ttrain_g_loss: 0.390,\ttrain_loss: 0.769,\ttrain_d_loss: 0.379\n",
      "epoch: 4/40,\tstep: 234/235,\tval_loss: 0.868,\ttrain_d_loss: 0.345,\ttrain_loss: 0.685,\ttrain_g_loss: 0.340,\tval_d_loss: 0.397,\tval_g_loss: 0.471\n",
      "epoch: 5/40,\tstep: 49/235,\ttrain_g_loss: 0.353,\ttrain_loss: 0.729,\ttrain_d_loss: 0.375\n",
      "epoch: 5/40,\tstep: 99/235,\ttrain_g_loss: 0.343,\ttrain_loss: 0.698,\ttrain_d_loss: 0.355\n",
      "epoch: 5/40,\tstep: 149/235,\ttrain_g_loss: 0.375,\ttrain_loss: 0.753,\ttrain_d_loss: 0.377\n",
      "epoch: 5/40,\tstep: 199/235,\ttrain_g_loss: 0.312,\ttrain_loss: 0.631,\ttrain_d_loss: 0.318\n",
      "epoch: 5/40,\tstep: 234/235,\tval_loss: 1.189,\ttrain_d_loss: 0.433,\ttrain_loss: 0.853,\ttrain_g_loss: 0.419,\tval_d_loss: 0.348,\tval_g_loss: 0.841\n",
      "epoch: 6/40,\tstep: 49/235,\ttrain_g_loss: 0.398,\ttrain_loss: 0.813,\ttrain_d_loss: 0.415\n",
      "epoch: 6/40,\tstep: 99/235,\ttrain_g_loss: 0.314,\ttrain_loss: 0.640,\ttrain_d_loss: 0.326\n",
      "epoch: 6/40,\tstep: 149/235,\ttrain_g_loss: 0.409,\ttrain_loss: 0.816,\ttrain_d_loss: 0.407\n",
      "epoch: 6/40,\tstep: 199/235,\ttrain_g_loss: 0.307,\ttrain_loss: 0.614,\ttrain_d_loss: 0.307\n",
      "epoch: 6/40,\tstep: 234/235,\tval_loss: 1.243,\ttrain_d_loss: 0.448,\ttrain_loss: 0.877,\ttrain_g_loss: 0.430,\tval_d_loss: 0.275,\tval_g_loss: 0.969\n",
      "epoch: 7/40,\tstep: 49/235,\ttrain_g_loss: 0.444,\ttrain_loss: 0.879,\ttrain_d_loss: 0.435\n",
      "epoch: 7/40,\tstep: 99/235,\ttrain_g_loss: 0.371,\ttrain_loss: 0.759,\ttrain_d_loss: 0.388\n",
      "epoch: 7/40,\tstep: 149/235,\ttrain_g_loss: 0.368,\ttrain_loss: 0.745,\ttrain_d_loss: 0.377\n",
      "epoch: 7/40,\tstep: 199/235,\ttrain_g_loss: 0.306,\ttrain_loss: 0.604,\ttrain_d_loss: 0.298\n",
      "epoch: 7/40,\tstep: 234/235,\tval_loss: 1.940,\ttrain_d_loss: 0.350,\ttrain_loss: 0.686,\ttrain_g_loss: 0.336,\tval_d_loss: 0.064,\tval_g_loss: 1.876\n",
      "epoch: 8/40,\tstep: 49/235,\ttrain_g_loss: 0.404,\ttrain_loss: 0.805,\ttrain_d_loss: 0.401\n",
      "epoch: 8/40,\tstep: 99/235,\ttrain_g_loss: 0.334,\ttrain_loss: 0.669,\ttrain_d_loss: 0.335\n",
      "epoch: 8/40,\tstep: 149/235,\ttrain_g_loss: 0.377,\ttrain_loss: 0.771,\ttrain_d_loss: 0.394\n",
      "epoch: 8/40,\tstep: 199/235,\ttrain_g_loss: 0.338,\ttrain_loss: 0.682,\ttrain_d_loss: 0.344\n",
      "epoch: 8/40,\tstep: 234/235,\tval_loss: 1.091,\ttrain_d_loss: 0.497,\ttrain_loss: 0.941,\ttrain_g_loss: 0.444,\tval_d_loss: 0.425,\tval_g_loss: 0.666\n",
      "epoch: 9/40,\tstep: 49/235,\ttrain_g_loss: 0.410,\ttrain_loss: 0.846,\ttrain_d_loss: 0.436\n",
      "epoch: 9/40,\tstep: 99/235,\ttrain_g_loss: 0.389,\ttrain_loss: 0.790,\ttrain_d_loss: 0.402\n",
      "epoch: 9/40,\tstep: 149/235,\ttrain_g_loss: 0.408,\ttrain_loss: 0.824,\ttrain_d_loss: 0.417\n",
      "epoch: 9/40,\tstep: 199/235,\ttrain_g_loss: 0.375,\ttrain_loss: 0.750,\ttrain_d_loss: 0.376\n",
      "epoch: 9/40,\tstep: 234/235,\tval_loss: 2.271,\ttrain_d_loss: 0.346,\ttrain_loss: 0.681,\ttrain_g_loss: 0.335,\tval_d_loss: 0.052,\tval_g_loss: 2.219\n",
      "epoch: 10/40,\tstep: 49/235,\ttrain_g_loss: 0.390,\ttrain_loss: 0.808,\ttrain_d_loss: 0.418\n",
      "epoch: 10/40,\tstep: 99/235,\ttrain_g_loss: 0.461,\ttrain_loss: 0.936,\ttrain_d_loss: 0.475\n",
      "epoch: 10/40,\tstep: 149/235,\ttrain_g_loss: 0.381,\ttrain_loss: 0.778,\ttrain_d_loss: 0.397\n",
      "epoch: 10/40,\tstep: 199/235,\ttrain_g_loss: 0.308,\ttrain_loss: 0.618,\ttrain_d_loss: 0.309\n",
      "epoch: 10/40,\tstep: 234/235,\tval_loss: 2.196,\ttrain_d_loss: 0.288,\ttrain_loss: 0.576,\ttrain_g_loss: 0.287,\tval_d_loss: 0.048,\tval_g_loss: 2.148\n",
      "epoch: 11/40,\tstep: 49/235,\ttrain_g_loss: 0.459,\ttrain_loss: 0.938,\ttrain_d_loss: 0.479\n",
      "epoch: 11/40,\tstep: 99/235,\ttrain_g_loss: 0.357,\ttrain_loss: 0.725,\ttrain_d_loss: 0.368\n",
      "epoch: 11/40,\tstep: 149/235,\ttrain_g_loss: 0.375,\ttrain_loss: 0.738,\ttrain_d_loss: 0.363\n",
      "epoch: 11/40,\tstep: 199/235,\ttrain_g_loss: 0.320,\ttrain_loss: 0.644,\ttrain_d_loss: 0.324\n",
      "epoch: 11/40,\tstep: 234/235,\tval_loss: 2.594,\ttrain_d_loss: 0.377,\ttrain_loss: 0.736,\ttrain_g_loss: 0.359,\tval_d_loss: 0.034,\tval_g_loss: 2.560\n",
      "epoch: 12/40,\tstep: 49/235,\ttrain_g_loss: 0.396,\ttrain_loss: 0.806,\ttrain_d_loss: 0.409\n",
      "epoch: 12/40,\tstep: 99/235,\ttrain_g_loss: 0.308,\ttrain_loss: 0.622,\ttrain_d_loss: 0.314\n",
      "epoch: 12/40,\tstep: 149/235,\ttrain_g_loss: 0.348,\ttrain_loss: 0.704,\ttrain_d_loss: 0.357\n",
      "epoch: 12/40,\tstep: 199/235,\ttrain_g_loss: 0.328,\ttrain_loss: 0.657,\ttrain_d_loss: 0.328\n",
      "epoch: 12/40,\tstep: 234/235,\tval_loss: 3.536,\ttrain_d_loss: 0.337,\ttrain_loss: 0.650,\ttrain_g_loss: 0.313,\tval_d_loss: 0.011,\tval_g_loss: 3.525\n",
      "epoch: 13/40,\tstep: 49/235,\ttrain_g_loss: 0.382,\ttrain_loss: 0.787,\ttrain_d_loss: 0.405\n",
      "epoch: 13/40,\tstep: 99/235,\ttrain_g_loss: 0.340,\ttrain_loss: 0.707,\ttrain_d_loss: 0.367\n",
      "epoch: 13/40,\tstep: 149/235,\ttrain_g_loss: 0.362,\ttrain_loss: 0.718,\ttrain_d_loss: 0.356\n",
      "epoch: 13/40,\tstep: 199/235,\ttrain_g_loss: 0.319,\ttrain_loss: 0.647,\ttrain_d_loss: 0.328\n",
      "epoch: 13/40,\tstep: 234/235,\tval_loss: 2.110,\ttrain_d_loss: 0.323,\ttrain_loss: 0.651,\ttrain_g_loss: 0.328,\tval_d_loss: 0.048,\tval_g_loss: 2.062\n",
      "epoch: 14/40,\tstep: 49/235,\ttrain_g_loss: 0.322,\ttrain_loss: 0.651,\ttrain_d_loss: 0.329\n",
      "epoch: 14/40,\tstep: 99/235,\ttrain_g_loss: 0.367,\ttrain_loss: 0.742,\ttrain_d_loss: 0.375\n",
      "epoch: 14/40,\tstep: 149/235,\ttrain_g_loss: 0.445,\ttrain_loss: 0.835,\ttrain_d_loss: 0.390\n",
      "epoch: 14/40,\tstep: 199/235,\ttrain_g_loss: 0.407,\ttrain_loss: 0.810,\ttrain_d_loss: 0.403\n",
      "epoch: 14/40,\tstep: 234/235,\tval_loss: 3.683,\ttrain_d_loss: 0.303,\ttrain_loss: 0.581,\ttrain_g_loss: 0.278,\tval_d_loss: 0.010,\tval_g_loss: 3.673\n",
      "epoch: 15/40,\tstep: 49/235,\ttrain_g_loss: 0.375,\ttrain_loss: 0.769,\ttrain_d_loss: 0.394\n",
      "epoch: 15/40,\tstep: 99/235,\ttrain_g_loss: 0.285,\ttrain_loss: 0.578,\ttrain_d_loss: 0.293\n",
      "epoch: 15/40,\tstep: 149/235,\ttrain_g_loss: 0.380,\ttrain_loss: 0.755,\ttrain_d_loss: 0.375\n",
      "epoch: 15/40,\tstep: 199/235,\ttrain_g_loss: 0.306,\ttrain_loss: 0.624,\ttrain_d_loss: 0.318\n",
      "epoch: 15/40,\tstep: 234/235,\tval_loss: 3.622,\ttrain_d_loss: 0.334,\ttrain_loss: 0.655,\ttrain_g_loss: 0.321,\tval_d_loss: 0.011,\tval_g_loss: 3.611\n",
      "epoch: 16/40,\tstep: 49/235,\ttrain_g_loss: 0.424,\ttrain_loss: 0.822,\ttrain_d_loss: 0.398\n",
      "epoch: 16/40,\tstep: 99/235,\ttrain_g_loss: 0.344,\ttrain_loss: 0.709,\ttrain_d_loss: 0.365\n",
      "epoch: 16/40,\tstep: 149/235,\ttrain_g_loss: 0.334,\ttrain_loss: 0.683,\ttrain_d_loss: 0.348\n"
     ]
    },
    {
     "name": "stdout",
     "output_type": "stream",
     "text": [
      "epoch: 16/40,\tstep: 199/235,\ttrain_g_loss: 0.299,\ttrain_loss: 0.593,\ttrain_d_loss: 0.295\n",
      "epoch: 16/40,\tstep: 234/235,\tval_loss: 3.022,\ttrain_d_loss: 0.311,\ttrain_loss: 0.650,\ttrain_g_loss: 0.338,\tval_d_loss: 0.019,\tval_g_loss: 3.003\n",
      "epoch: 17/40,\tstep: 49/235,\ttrain_g_loss: 0.356,\ttrain_loss: 0.738,\ttrain_d_loss: 0.382\n",
      "epoch: 17/40,\tstep: 99/235,\ttrain_g_loss: 0.331,\ttrain_loss: 0.650,\ttrain_d_loss: 0.319\n",
      "epoch: 17/40,\tstep: 149/235,\ttrain_g_loss: 0.352,\ttrain_loss: 0.720,\ttrain_d_loss: 0.369\n",
      "epoch: 17/40,\tstep: 199/235,\ttrain_g_loss: 0.332,\ttrain_loss: 0.685,\ttrain_d_loss: 0.353\n",
      "epoch: 17/40,\tstep: 234/235,\tval_loss: 4.358,\ttrain_d_loss: 0.305,\ttrain_loss: 0.593,\ttrain_g_loss: 0.288,\tval_d_loss: 0.006,\tval_g_loss: 4.352\n",
      "epoch: 18/40,\tstep: 49/235,\ttrain_g_loss: 0.356,\ttrain_loss: 0.726,\ttrain_d_loss: 0.370\n",
      "epoch: 18/40,\tstep: 99/235,\ttrain_g_loss: 0.355,\ttrain_loss: 0.730,\ttrain_d_loss: 0.375\n",
      "epoch: 18/40,\tstep: 149/235,\ttrain_g_loss: 0.342,\ttrain_loss: 0.676,\ttrain_d_loss: 0.334\n",
      "epoch: 18/40,\tstep: 199/235,\ttrain_g_loss: 0.294,\ttrain_loss: 0.588,\ttrain_d_loss: 0.294\n",
      "epoch: 18/40,\tstep: 234/235,\tval_loss: 5.338,\ttrain_d_loss: 0.305,\ttrain_loss: 0.625,\ttrain_g_loss: 0.320,\tval_d_loss: 0.002,\tval_g_loss: 5.337\n",
      "epoch: 19/40,\tstep: 49/235,\ttrain_g_loss: 0.374,\ttrain_loss: 0.791,\ttrain_d_loss: 0.418\n",
      "epoch: 19/40,\tstep: 99/235,\ttrain_g_loss: 0.359,\ttrain_loss: 0.738,\ttrain_d_loss: 0.378\n",
      "epoch: 19/40,\tstep: 149/235,\ttrain_g_loss: 0.303,\ttrain_loss: 0.606,\ttrain_d_loss: 0.303\n",
      "epoch: 19/40,\tstep: 199/235,\ttrain_g_loss: 0.360,\ttrain_loss: 0.736,\ttrain_d_loss: 0.377\n",
      "epoch: 19/40,\tstep: 234/235,\tval_loss: 4.839,\ttrain_d_loss: 0.323,\ttrain_loss: 0.634,\ttrain_g_loss: 0.311,\tval_d_loss: 0.005,\tval_g_loss: 4.834\n",
      "epoch: 20/40,\tstep: 49/235,\ttrain_g_loss: 0.302,\ttrain_loss: 0.613,\ttrain_d_loss: 0.311\n",
      "epoch: 20/40,\tstep: 99/235,\ttrain_g_loss: 0.344,\ttrain_loss: 0.714,\ttrain_d_loss: 0.370\n",
      "epoch: 20/40,\tstep: 149/235,\ttrain_g_loss: 0.352,\ttrain_loss: 0.747,\ttrain_d_loss: 0.395\n",
      "epoch: 20/40,\tstep: 199/235,\ttrain_g_loss: 0.351,\ttrain_loss: 0.688,\ttrain_d_loss: 0.337\n",
      "epoch: 20/40,\tstep: 234/235,\tval_loss: 5.703,\ttrain_d_loss: 0.326,\ttrain_loss: 0.632,\ttrain_g_loss: 0.306,\tval_d_loss: 0.001,\tval_g_loss: 5.702\n",
      "epoch: 21/40,\tstep: 49/235,\ttrain_g_loss: 0.355,\ttrain_loss: 0.744,\ttrain_d_loss: 0.389\n",
      "epoch: 21/40,\tstep: 99/235,\ttrain_g_loss: 0.349,\ttrain_loss: 0.691,\ttrain_d_loss: 0.343\n",
      "epoch: 21/40,\tstep: 149/235,\ttrain_g_loss: 0.321,\ttrain_loss: 0.640,\ttrain_d_loss: 0.319\n",
      "epoch: 21/40,\tstep: 199/235,\ttrain_g_loss: 0.316,\ttrain_loss: 0.642,\ttrain_d_loss: 0.326\n",
      "epoch: 21/40,\tstep: 234/235,\tval_loss: 6.115,\ttrain_d_loss: 0.363,\ttrain_loss: 0.711,\ttrain_g_loss: 0.348,\tval_d_loss: 0.001,\tval_g_loss: 6.114\n",
      "epoch: 22/40,\tstep: 49/235,\ttrain_g_loss: 0.347,\ttrain_loss: 0.697,\ttrain_d_loss: 0.350\n",
      "epoch: 22/40,\tstep: 99/235,\ttrain_g_loss: 0.294,\ttrain_loss: 0.596,\ttrain_d_loss: 0.302\n",
      "epoch: 22/40,\tstep: 149/235,\ttrain_g_loss: 0.402,\ttrain_loss: 0.822,\ttrain_d_loss: 0.420\n",
      "epoch: 22/40,\tstep: 199/235,\ttrain_g_loss: 0.283,\ttrain_loss: 0.572,\ttrain_d_loss: 0.289\n",
      "epoch: 22/40,\tstep: 234/235,\tval_loss: 5.671,\ttrain_d_loss: 0.404,\ttrain_loss: 0.842,\ttrain_g_loss: 0.438,\tval_d_loss: 0.002,\tval_g_loss: 5.669\n",
      "epoch: 23/40,\tstep: 49/235,\ttrain_g_loss: 0.353,\ttrain_loss: 0.717,\ttrain_d_loss: 0.364\n",
      "epoch: 23/40,\tstep: 99/235,\ttrain_g_loss: 0.266,\ttrain_loss: 0.530,\ttrain_d_loss: 0.264\n",
      "epoch: 23/40,\tstep: 149/235,\ttrain_g_loss: 0.390,\ttrain_loss: 0.775,\ttrain_d_loss: 0.385\n",
      "epoch: 23/40,\tstep: 199/235,\ttrain_g_loss: 0.308,\ttrain_loss: 0.619,\ttrain_d_loss: 0.311\n",
      "epoch: 23/40,\tstep: 234/235,\tval_loss: 6.203,\ttrain_d_loss: 0.354,\ttrain_loss: 0.678,\ttrain_g_loss: 0.324,\tval_d_loss: 0.001,\tval_g_loss: 6.202\n",
      "epoch: 24/40,\tstep: 49/235,\ttrain_g_loss: 0.371,\ttrain_loss: 0.749,\ttrain_d_loss: 0.378\n",
      "epoch: 24/40,\tstep: 99/235,\ttrain_g_loss: 0.301,\ttrain_loss: 0.606,\ttrain_d_loss: 0.305\n",
      "epoch: 24/40,\tstep: 149/235,\ttrain_g_loss: 0.343,\ttrain_loss: 0.721,\ttrain_d_loss: 0.378\n",
      "epoch: 24/40,\tstep: 199/235,\ttrain_g_loss: 0.329,\ttrain_loss: 0.658,\ttrain_d_loss: 0.329\n",
      "epoch: 24/40,\tstep: 234/235,\tval_loss: 8.599,\ttrain_d_loss: 0.298,\ttrain_loss: 0.581,\ttrain_g_loss: 0.283,\tval_d_loss: 0.000,\tval_g_loss: 8.599\n",
      "epoch: 25/40,\tstep: 49/235,\ttrain_g_loss: 0.341,\ttrain_loss: 0.683,\ttrain_d_loss: 0.343\n",
      "epoch: 25/40,\tstep: 99/235,\ttrain_g_loss: 0.321,\ttrain_loss: 0.644,\ttrain_d_loss: 0.323\n",
      "epoch: 25/40,\tstep: 149/235,\ttrain_g_loss: 0.360,\ttrain_loss: 0.725,\ttrain_d_loss: 0.365\n",
      "epoch: 25/40,\tstep: 199/235,\ttrain_g_loss: 0.307,\ttrain_loss: 0.620,\ttrain_d_loss: 0.313\n",
      "epoch: 25/40,\tstep: 234/235,\tval_loss: 8.106,\ttrain_d_loss: 0.345,\ttrain_loss: 0.658,\ttrain_g_loss: 0.313,\tval_d_loss: 0.000,\tval_g_loss: 8.105\n",
      "epoch: 26/40,\tstep: 49/235,\ttrain_g_loss: 0.332,\ttrain_loss: 0.671,\ttrain_d_loss: 0.339\n",
      "epoch: 26/40,\tstep: 99/235,\ttrain_g_loss: 0.289,\ttrain_loss: 0.589,\ttrain_d_loss: 0.300\n",
      "epoch: 26/40,\tstep: 149/235,\ttrain_g_loss: 0.316,\ttrain_loss: 0.648,\ttrain_d_loss: 0.331\n",
      "epoch: 26/40,\tstep: 199/235,\ttrain_g_loss: 0.392,\ttrain_loss: 0.797,\ttrain_d_loss: 0.405\n",
      "epoch: 26/40,\tstep: 234/235,\tval_loss: 8.699,\ttrain_d_loss: 0.277,\ttrain_loss: 0.537,\ttrain_g_loss: 0.260,\tval_d_loss: 0.000,\tval_g_loss: 8.699\n",
      "epoch: 27/40,\tstep: 49/235,\ttrain_g_loss: 0.407,\ttrain_loss: 0.854,\ttrain_d_loss: 0.447\n",
      "epoch: 27/40,\tstep: 99/235,\ttrain_g_loss: 0.304,\ttrain_loss: 0.625,\ttrain_d_loss: 0.321\n",
      "epoch: 27/40,\tstep: 149/235,\ttrain_g_loss: 0.276,\ttrain_loss: 0.558,\ttrain_d_loss: 0.282\n",
      "epoch: 27/40,\tstep: 199/235,\ttrain_g_loss: 0.331,\ttrain_loss: 0.698,\ttrain_d_loss: 0.367\n",
      "epoch: 27/40,\tstep: 234/235,\tval_loss: 6.340,\ttrain_d_loss: 0.276,\ttrain_loss: 0.558,\ttrain_g_loss: 0.282,\tval_d_loss: 0.001,\tval_g_loss: 6.339\n",
      "epoch: 28/40,\tstep: 49/235,\ttrain_g_loss: 0.346,\ttrain_loss: 0.730,\ttrain_d_loss: 0.384\n",
      "epoch: 28/40,\tstep: 99/235,\ttrain_g_loss: 0.298,\ttrain_loss: 0.603,\ttrain_d_loss: 0.305\n",
      "epoch: 28/40,\tstep: 149/235,\ttrain_g_loss: 0.322,\ttrain_loss: 0.664,\ttrain_d_loss: 0.342\n",
      "epoch: 28/40,\tstep: 199/235,\ttrain_g_loss: 0.308,\ttrain_loss: 0.637,\ttrain_d_loss: 0.329\n",
      "epoch: 28/40,\tstep: 234/235,\tval_loss: 7.883,\ttrain_d_loss: 0.263,\ttrain_loss: 0.557,\ttrain_g_loss: 0.294,\tval_d_loss: 0.000,\tval_g_loss: 7.883\n",
      "epoch: 29/40,\tstep: 49/235,\ttrain_g_loss: 0.316,\ttrain_loss: 0.678,\ttrain_d_loss: 0.362\n",
      "epoch: 29/40,\tstep: 99/235,\ttrain_g_loss: 0.298,\ttrain_loss: 0.616,\ttrain_d_loss: 0.317\n",
      "epoch: 29/40,\tstep: 149/235,\ttrain_g_loss: 0.300,\ttrain_loss: 0.609,\ttrain_d_loss: 0.309\n",
      "epoch: 29/40,\tstep: 199/235,\ttrain_g_loss: 0.308,\ttrain_loss: 0.619,\ttrain_d_loss: 0.312\n",
      "epoch: 29/40,\tstep: 234/235,\tval_loss: 9.712,\ttrain_d_loss: 0.304,\ttrain_loss: 0.597,\ttrain_g_loss: 0.293,\tval_d_loss: 0.000,\tval_g_loss: 9.712\n",
      "epoch: 30/40,\tstep: 49/235,\ttrain_g_loss: 0.340,\ttrain_loss: 0.698,\ttrain_d_loss: 0.358\n",
      "epoch: 30/40,\tstep: 99/235,\ttrain_g_loss: 0.280,\ttrain_loss: 0.566,\ttrain_d_loss: 0.286\n",
      "epoch: 30/40,\tstep: 149/235,\ttrain_g_loss: 0.367,\ttrain_loss: 0.760,\ttrain_d_loss: 0.393\n",
      "epoch: 30/40,\tstep: 199/235,\ttrain_g_loss: 0.301,\ttrain_loss: 0.600,\ttrain_d_loss: 0.299\n",
      "epoch: 30/40,\tstep: 234/235,\tval_loss: 10.947,\ttrain_d_loss: 0.289,\ttrain_loss: 0.538,\ttrain_g_loss: 0.249,\tval_d_loss: 0.000,\tval_g_loss: 10.947\n",
      "epoch: 31/40,\tstep: 49/235,\ttrain_g_loss: 0.372,\ttrain_loss: 0.748,\ttrain_d_loss: 0.376\n",
      "epoch: 31/40,\tstep: 99/235,\ttrain_g_loss: 0.286,\ttrain_loss: 0.573,\ttrain_d_loss: 0.287\n",
      "epoch: 31/40,\tstep: 149/235,\ttrain_g_loss: 0.324,\ttrain_loss: 0.655,\ttrain_d_loss: 0.331\n",
      "epoch: 31/40,\tstep: 199/235,\ttrain_g_loss: 0.275,\ttrain_loss: 0.556,\ttrain_d_loss: 0.280\n",
      "epoch: 31/40,\tstep: 234/235,\tval_loss: 9.416,\ttrain_d_loss: 0.374,\ttrain_loss: 0.705,\ttrain_g_loss: 0.330,\tval_d_loss: 0.000,\tval_g_loss: 9.416\n",
      "epoch: 32/40,\tstep: 49/235,\ttrain_g_loss: 0.375,\ttrain_loss: 0.790,\ttrain_d_loss: 0.414\n",
      "epoch: 32/40,\tstep: 99/235,\ttrain_g_loss: 0.255,\ttrain_loss: 0.513,\ttrain_d_loss: 0.258\n",
      "epoch: 32/40,\tstep: 149/235,\ttrain_g_loss: 0.362,\ttrain_loss: 0.745,\ttrain_d_loss: 0.383\n",
      "epoch: 32/40,\tstep: 199/235,\ttrain_g_loss: 0.312,\ttrain_loss: 0.626,\ttrain_d_loss: 0.314\n"
     ]
    },
    {
     "name": "stdout",
     "output_type": "stream",
     "text": [
      "epoch: 32/40,\tstep: 234/235,\tval_loss: 10.247,\ttrain_d_loss: 0.255,\ttrain_loss: 0.503,\ttrain_g_loss: 0.248,\tval_d_loss: 0.000,\tval_g_loss: 10.247\n",
      "epoch: 33/40,\tstep: 49/235,\ttrain_g_loss: 0.380,\ttrain_loss: 0.775,\ttrain_d_loss: 0.395\n",
      "epoch: 33/40,\tstep: 99/235,\ttrain_g_loss: 0.268,\ttrain_loss: 0.544,\ttrain_d_loss: 0.276\n",
      "epoch: 33/40,\tstep: 149/235,\ttrain_g_loss: 0.329,\ttrain_loss: 0.676,\ttrain_d_loss: 0.347\n",
      "epoch: 33/40,\tstep: 199/235,\ttrain_g_loss: 0.316,\ttrain_loss: 0.630,\ttrain_d_loss: 0.314\n",
      "epoch: 33/40,\tstep: 234/235,\tval_loss: 12.930,\ttrain_d_loss: 0.316,\ttrain_loss: 0.615,\ttrain_g_loss: 0.299,\tval_d_loss: 0.000,\tval_g_loss: 12.930\n",
      "epoch: 34/40,\tstep: 49/235,\ttrain_g_loss: 0.368,\ttrain_loss: 0.753,\ttrain_d_loss: 0.385\n",
      "epoch: 34/40,\tstep: 99/235,\ttrain_g_loss: 0.281,\ttrain_loss: 0.570,\ttrain_d_loss: 0.289\n",
      "epoch: 34/40,\tstep: 149/235,\ttrain_g_loss: 0.306,\ttrain_loss: 0.613,\ttrain_d_loss: 0.307\n",
      "epoch: 34/40,\tstep: 199/235,\ttrain_g_loss: 0.249,\ttrain_loss: 0.492,\ttrain_d_loss: 0.244\n",
      "epoch: 34/40,\tstep: 234/235,\tval_loss: 11.021,\ttrain_d_loss: 0.345,\ttrain_loss: 0.677,\ttrain_g_loss: 0.332,\tval_d_loss: 0.000,\tval_g_loss: 11.021\n",
      "epoch: 35/40,\tstep: 49/235,\ttrain_g_loss: 0.325,\ttrain_loss: 0.660,\ttrain_d_loss: 0.335\n",
      "epoch: 35/40,\tstep: 99/235,\ttrain_g_loss: 0.286,\ttrain_loss: 0.578,\ttrain_d_loss: 0.292\n",
      "epoch: 35/40,\tstep: 149/235,\ttrain_g_loss: 0.321,\ttrain_loss: 0.685,\ttrain_d_loss: 0.364\n",
      "epoch: 35/40,\tstep: 199/235,\ttrain_g_loss: 0.328,\ttrain_loss: 0.682,\ttrain_d_loss: 0.354\n",
      "epoch: 35/40,\tstep: 234/235,\tval_loss: 12.816,\ttrain_d_loss: 0.299,\ttrain_loss: 0.576,\ttrain_g_loss: 0.277,\tval_d_loss: 0.000,\tval_g_loss: 12.816\n",
      "epoch: 36/40,\tstep: 49/235,\ttrain_g_loss: 0.341,\ttrain_loss: 0.683,\ttrain_d_loss: 0.342\n",
      "epoch: 36/40,\tstep: 99/235,\ttrain_g_loss: 0.259,\ttrain_loss: 0.527,\ttrain_d_loss: 0.268\n",
      "epoch: 36/40,\tstep: 149/235,\ttrain_g_loss: 0.316,\ttrain_loss: 0.642,\ttrain_d_loss: 0.326\n",
      "epoch: 36/40,\tstep: 199/235,\ttrain_g_loss: 0.294,\ttrain_loss: 0.584,\ttrain_d_loss: 0.290\n",
      "epoch: 36/40,\tstep: 234/235,\tval_loss: 13.321,\ttrain_d_loss: 0.317,\ttrain_loss: 0.602,\ttrain_g_loss: 0.285,\tval_d_loss: 0.000,\tval_g_loss: 13.321\n",
      "epoch: 37/40,\tstep: 49/235,\ttrain_g_loss: 0.341,\ttrain_loss: 0.694,\ttrain_d_loss: 0.353\n",
      "epoch: 37/40,\tstep: 99/235,\ttrain_g_loss: 0.271,\ttrain_loss: 0.549,\ttrain_d_loss: 0.278\n",
      "epoch: 37/40,\tstep: 149/235,\ttrain_g_loss: 0.308,\ttrain_loss: 0.652,\ttrain_d_loss: 0.344\n",
      "epoch: 37/40,\tstep: 199/235,\ttrain_g_loss: 0.280,\ttrain_loss: 0.575,\ttrain_d_loss: 0.295\n",
      "epoch: 37/40,\tstep: 234/235,\tval_loss: 15.374,\ttrain_d_loss: 0.338,\ttrain_loss: 0.647,\ttrain_g_loss: 0.309,\tval_d_loss: 0.000,\tval_g_loss: 15.374\n",
      "epoch: 38/40,\tstep: 49/235,\ttrain_g_loss: 0.338,\ttrain_loss: 0.686,\ttrain_d_loss: 0.348\n",
      "epoch: 38/40,\tstep: 99/235,\ttrain_g_loss: 0.279,\ttrain_loss: 0.561,\ttrain_d_loss: 0.282\n",
      "epoch: 38/40,\tstep: 149/235,\ttrain_g_loss: 0.337,\ttrain_loss: 0.681,\ttrain_d_loss: 0.343\n",
      "epoch: 38/40,\tstep: 199/235,\ttrain_g_loss: 0.254,\ttrain_loss: 0.502,\ttrain_d_loss: 0.249\n",
      "epoch: 38/40,\tstep: 234/235,\tval_loss: 9.599,\ttrain_d_loss: 0.320,\ttrain_loss: 0.621,\ttrain_g_loss: 0.301,\tval_d_loss: 0.000,\tval_g_loss: 9.599\n",
      "epoch: 39/40,\tstep: 49/235,\ttrain_g_loss: 0.295,\ttrain_loss: 0.622,\ttrain_d_loss: 0.327\n",
      "epoch: 39/40,\tstep: 99/235,\ttrain_g_loss: 0.314,\ttrain_loss: 0.659,\ttrain_d_loss: 0.344\n",
      "epoch: 39/40,\tstep: 149/235,\ttrain_g_loss: 0.284,\ttrain_loss: 0.596,\ttrain_d_loss: 0.312\n",
      "epoch: 39/40,\tstep: 199/235,\ttrain_g_loss: 0.294,\ttrain_loss: 0.598,\ttrain_d_loss: 0.304\n",
      "epoch: 39/40,\tstep: 234/235,\tval_loss: 12.571,\ttrain_d_loss: 0.254,\ttrain_loss: 0.503,\ttrain_g_loss: 0.249,\tval_d_loss: 0.000,\tval_g_loss: 12.571\n"
     ]
    }
   ],
   "source": [
    "trainer.train(dataloader,\n",
    "              valid_dataloader=test_dl,\n",
    "              epochs=40)"
   ]
  },
  {
   "cell_type": "code",
   "execution_count": 25,
   "metadata": {},
   "outputs": [
    {
     "data": {
      "image/png": "[encoded data removed]",
      "text/plain": [
       "<matplotlib.figure.Figure at 0x5835198>"
      ]
     },
     "metadata": {},
     "output_type": "display_data"
    }
   ],
   "source": [
    "trainer.history.epoch_plot('train_loss')\n",
    "trainer.history.epoch_plot('train_d_loss')\n",
    "trainer.history.epoch_plot('train_d_loss')\n",
    "trainer.history.epoch_plot('val_loss')\n",
    "trainer.history.epoch_plot('val_d_loss')\n",
    "trainer.history.epoch_plot('val_g_loss')\n",
    "plt.legend()\n",
    "plt.show()"
   ]
  },
  {
   "cell_type": "code",
   "execution_count": 26,
   "metadata": {},
   "outputs": [
    {
     "data": {
      "image/png": "[encoded data removed]",
      "text/plain": [
       "<matplotlib.figure.Figure at 0x57a73c8>"
      ]
     },
     "metadata": {},
     "output_type": "display_data"
    }
   ],
   "source": [
    "m.eval()\n",
    "showsample()"
   ]
  },
  {
   "cell_type": "code",
   "execution_count": null,
   "metadata": {},
   "outputs": [],
   "source": []
  }
 ],
 "metadata": {
  "kernelspec": {
   "display_name": "Python 3",
   "language": "python",
   "name": "python3"
  },
  "language_info": {
   "codemirror_mode": {
    "name": "ipython",
    "version": 3
   },
   "file_extension": ".py",
   "mimetype": "text/x-python",
   "name": "python",
   "nbconvert_exporter": "python",
   "pygments_lexer": "ipython3",
   "version": "3.5.4"
  }
 },
 "nbformat": 4,
 "nbformat_minor": 2
}
