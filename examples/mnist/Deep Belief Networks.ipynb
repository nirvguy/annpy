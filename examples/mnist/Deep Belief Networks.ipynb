{
 "cells": [
  {
   "cell_type": "code",
   "execution_count": 1,
   "metadata": {},
   "outputs": [],
   "source": [
    "import torch\n",
    "from torch.autograd import Variable\n",
    "from torch.utils.data import DataLoader\n",
    "from torch.utils.data.dataset import Dataset\n",
    "\n",
    "import torchvision\n",
    "from torchvision.datasets import MNIST\n",
    "from torchvision import transforms\n",
    "\n",
    "import matplotlib.pyplot as plt\n",
    "\n",
    "from annpy.models.rbm import RBM, CDOptimizer\n",
    "from annpy.models.dbn import DBN, GreddyOptimizer\n",
    "from annpy.training.unsupervised_trainer import UnsupervisedTrainer, ValidationGranularity\n",
    "import torchtrainer\n",
    "from torchtrainer.callbacks import Logger\n",
    "from torchtrainer.utils.data import UnsuperviseDataset\n",
    "\n",
    "TRAIN = True\n",
    "EPOCHS = 10"
   ]
  },
  {
   "cell_type": "code",
   "execution_count": 2,
   "metadata": {},
   "outputs": [],
   "source": [
    "def tensor_to_binary_tensor(tensor):\n",
    "    return tensor.apply_(lambda x: 1.0 if x > 0 else 0.0)\n",
    "\n",
    "def image_to_tensor(img):\n",
    "    return torch.Tensor([1.0 if x == '#' else 0.0 for x in img])\n",
    "\n",
    "data_transform = transforms.Compose([transforms.ToTensor(),\n",
    "                                     transforms.Lambda(lambda x: x.view(x.numel())),\n",
    "                                     tensor_to_binary_tensor])\n",
    "\n",
    "training_dataset = UnsuperviseDataset(MNIST('data', train=True, transform=data_transform, download=True))\n",
    "\n",
    "data_loader = DataLoader(training_dataset,\n",
    "                          batch_size=2048,\n",
    "                          shuffle=True,\n",
    "                          num_workers=4,\n",
    "                           )\n",
    "test_dataset = UnsuperviseDataset(MNIST('data', train=False, transform=data_transform, download=True))\n",
    "valid_dataloader = DataLoader(test_dataset,\n",
    "                          batch_size=2048,\n",
    "                          shuffle=True,\n",
    "                          num_workers=4,\n",
    "                           )\n",
    "ROW_CELLS = 28\n",
    "COL_CELLS = 28\n",
    "CELLS = ROW_CELLS * COL_CELLS"
   ]
  },
  {
   "cell_type": "code",
   "execution_count": 3,
   "metadata": {},
   "outputs": [],
   "source": [
    "network1 = RBM(28*28, 1000)\n",
    "network2 = RBM(1000, 10)\n",
    "dbn = DBN()\n",
    "dbn.append(network1)\n",
    "dbn.append(network2)"
   ]
  },
  {
   "cell_type": "code",
   "execution_count": 4,
   "metadata": {},
   "outputs": [],
   "source": [
    "optimizers = [CDOptimizer(network1, lr=0.1),\n",
    "              CDOptimizer(network2, lr=0.1)]\n",
    "optimizer = GreddyOptimizer(dbn, *optimizers)\n",
    "trainer = UnsupervisedTrainer(model=dbn,\n",
    "                              optimizer=optimizer,\n",
    "                              callbacks=[Logger()],\n",
    "                              logging_frecuency=1,\n",
    "                              validation_granularity=ValidationGranularity.AT_EPOCH)"
   ]
  },
  {
   "cell_type": "code",
   "execution_count": 5,
   "metadata": {},
   "outputs": [
    {
     "name": "stdout",
     "output_type": "stream",
     "text": [
      "epoch: 0/1,\tstep: 0/30,\ttrain_reconstruction_loss: 0.498\n",
      "epoch: 0/1,\tstep: 1/30,\ttrain_reconstruction_loss: 0.163\n",
      "epoch: 0/1,\tstep: 2/30,\ttrain_reconstruction_loss: 0.212\n",
      "epoch: 0/1,\tstep: 3/30,\ttrain_reconstruction_loss: 0.194\n",
      "epoch: 0/1,\tstep: 4/30,\ttrain_reconstruction_loss: 0.190\n",
      "epoch: 0/1,\tstep: 5/30,\ttrain_reconstruction_loss: 0.187\n",
      "epoch: 0/1,\tstep: 6/30,\ttrain_reconstruction_loss: 0.191\n",
      "epoch: 0/1,\tstep: 7/30,\ttrain_reconstruction_loss: 0.187\n",
      "epoch: 0/1,\tstep: 8/30,\ttrain_reconstruction_loss: 0.187\n",
      "epoch: 0/1,\tstep: 9/30,\ttrain_reconstruction_loss: 0.184\n",
      "epoch: 0/1,\tstep: 10/30,\ttrain_reconstruction_loss: 0.185\n",
      "epoch: 0/1,\tstep: 11/30,\ttrain_reconstruction_loss: 0.184\n",
      "epoch: 0/1,\tstep: 12/30,\ttrain_reconstruction_loss: 0.180\n",
      "epoch: 0/1,\tstep: 13/30,\ttrain_reconstruction_loss: 0.184\n",
      "epoch: 0/1,\tstep: 14/30,\ttrain_reconstruction_loss: 0.179\n",
      "epoch: 0/1,\tstep: 15/30,\ttrain_reconstruction_loss: 0.182\n",
      "epoch: 0/1,\tstep: 16/30,\ttrain_reconstruction_loss: 0.176\n",
      "epoch: 0/1,\tstep: 17/30,\ttrain_reconstruction_loss: 0.181\n",
      "epoch: 0/1,\tstep: 18/30,\ttrain_reconstruction_loss: 0.178\n",
      "epoch: 0/1,\tstep: 19/30,\ttrain_reconstruction_loss: 0.180\n",
      "epoch: 0/1,\tstep: 20/30,\ttrain_reconstruction_loss: 0.178\n",
      "epoch: 0/1,\tstep: 21/30,\ttrain_reconstruction_loss: 0.182\n",
      "epoch: 0/1,\tstep: 22/30,\ttrain_reconstruction_loss: 0.179\n",
      "epoch: 0/1,\tstep: 23/30,\ttrain_reconstruction_loss: 0.182\n",
      "epoch: 0/1,\tstep: 24/30,\ttrain_reconstruction_loss: 0.180\n",
      "epoch: 0/1,\tstep: 25/30,\ttrain_reconstruction_loss: 0.186\n",
      "epoch: 0/1,\tstep: 26/30,\ttrain_reconstruction_loss: 0.177\n",
      "epoch: 0/1,\tstep: 27/30,\ttrain_reconstruction_loss: 0.187\n",
      "epoch: 0/1,\tstep: 28/30,\ttrain_reconstruction_loss: 0.173\n",
      "epoch: 0/1,\tstep: 29/30,\ttrain_reconstruction_loss: 0.186,\tval_reconstruction_loss: 0.175\n"
     ]
    }
   ],
   "source": [
    "if TRAIN:\n",
    "    trainer.train(data_loader,\n",
    "                  valid_dataloader=valid_dataloader,\n",
    "                  epochs=1)"
   ]
  },
  {
   "cell_type": "code",
   "execution_count": 6,
   "metadata": {},
   "outputs": [],
   "source": [
    "def digitplot(tensor, show=True):\n",
    "    plt.matshow(tensor_to_numpy_matrix(tensor))\n",
    "    if show:\n",
    "        plt.show()"
   ]
  },
  {
   "cell_type": "code",
   "execution_count": 7,
   "metadata": {},
   "outputs": [
    {
     "ename": "NameError",
     "evalue": "name 'tensor_to_numpy_matrix' is not defined",
     "output_type": "error",
     "traceback": [
      "\u001b[0;31m---------------------------------------------------------------------------\u001b[0m",
      "\u001b[0;31mNameError\u001b[0m                                 Traceback (most recent call last)",
      "\u001b[0;32m<ipython-input-7-21dc5077048a>\u001b[0m in \u001b[0;36m<module>\u001b[0;34m()\u001b[0m\n\u001b[1;32m     61\u001b[0m \u001b[0;31m#print(type(tensors[0]))\u001b[0m\u001b[0;34m\u001b[0m\u001b[0;34m\u001b[0m\u001b[0m\n\u001b[1;32m     62\u001b[0m \u001b[0;32mfor\u001b[0m \u001b[0mx\u001b[0m \u001b[0;32min\u001b[0m \u001b[0mtensors\u001b[0m\u001b[0;34m:\u001b[0m\u001b[0;34m\u001b[0m\u001b[0m\n\u001b[0;32m---> 63\u001b[0;31m     \u001b[0mdigitplot\u001b[0m\u001b[0;34m(\u001b[0m\u001b[0mx\u001b[0m\u001b[0;34m)\u001b[0m\u001b[0;34m\u001b[0m\u001b[0m\n\u001b[0m\u001b[1;32m     64\u001b[0m     \u001b[0mdigitplot\u001b[0m\u001b[0;34m(\u001b[0m\u001b[0mdbn\u001b[0m\u001b[0;34m.\u001b[0m\u001b[0mreconstruct\u001b[0m\u001b[0;34m(\u001b[0m\u001b[0mVariable\u001b[0m\u001b[0;34m(\u001b[0m\u001b[0mx\u001b[0m\u001b[0;34m)\u001b[0m\u001b[0;34m,\u001b[0m \u001b[0;36m10\u001b[0m\u001b[0;34m)\u001b[0m\u001b[0;34m.\u001b[0m\u001b[0mdata\u001b[0m\u001b[0;34m)\u001b[0m\u001b[0;34m\u001b[0m\u001b[0m\n",
      "\u001b[0;32m<ipython-input-6-4b69cedbb35a>\u001b[0m in \u001b[0;36mdigitplot\u001b[0;34m(tensor, show)\u001b[0m\n\u001b[1;32m      1\u001b[0m \u001b[0;32mdef\u001b[0m \u001b[0mdigitplot\u001b[0m\u001b[0;34m(\u001b[0m\u001b[0mtensor\u001b[0m\u001b[0;34m,\u001b[0m \u001b[0mshow\u001b[0m\u001b[0;34m=\u001b[0m\u001b[0;32mTrue\u001b[0m\u001b[0;34m)\u001b[0m\u001b[0;34m:\u001b[0m\u001b[0;34m\u001b[0m\u001b[0m\n\u001b[0;32m----> 2\u001b[0;31m     \u001b[0mplt\u001b[0m\u001b[0;34m.\u001b[0m\u001b[0mmatshow\u001b[0m\u001b[0;34m(\u001b[0m\u001b[0mtensor_to_numpy_matrix\u001b[0m\u001b[0;34m(\u001b[0m\u001b[0mtensor\u001b[0m\u001b[0;34m)\u001b[0m\u001b[0;34m)\u001b[0m\u001b[0;34m\u001b[0m\u001b[0m\n\u001b[0m\u001b[1;32m      3\u001b[0m     \u001b[0;32mif\u001b[0m \u001b[0mshow\u001b[0m\u001b[0;34m:\u001b[0m\u001b[0;34m\u001b[0m\u001b[0m\n\u001b[1;32m      4\u001b[0m         \u001b[0mplt\u001b[0m\u001b[0;34m.\u001b[0m\u001b[0mshow\u001b[0m\u001b[0;34m(\u001b[0m\u001b[0;34m)\u001b[0m\u001b[0;34m\u001b[0m\u001b[0m\n",
      "\u001b[0;31mNameError\u001b[0m: name 'tensor_to_numpy_matrix' is not defined"
     ]
    }
   ],
   "source": [
    "patterns = ('............................'\n",
    "'............................'\n",
    "'.....................#......'\n",
    "'............................'\n",
    "'..........###.###...........'\n",
    "'........###########.........'\n",
    "'........############........'\n",
    "'.......#####.....#####......'\n",
    "'.......####.......####......'\n",
    "'........####.....#####......'\n",
    "'........###.....#####.......'\n",
    "'..#......####..######.......'\n",
    "'........###########.........'\n",
    "'............................'\n",
    "'............................'\n",
    "'...........######...........'\n",
    "'...#.......#######..........'\n",
    "'..........####..###.........'\n",
    "'.........#####..###.........'\n",
    "'.........####...###.........'\n",
    "'.........###................'\n",
    "'........#..#...####.........'\n",
    "'........####...####.........'\n",
    "'........###...####..........'\n",
    "'.........###########........'\n",
    "'............................'\n",
    "'............................'\n",
    "'............................',\n",
    "###############################\n",
    "'............................'\n",
    "'............................'\n",
    "'............................'\n",
    "'............................'\n",
    "'............................'\n",
    "'.....##################.....'\n",
    "'.....#################......'\n",
    "'....################........'\n",
    "'..#########.................'\n",
    "'..#########.................'\n",
    "'..#######...................'\n",
    "'..###########.#####.........'\n",
    "'...###################......'\n",
    "'...####################.....'\n",
    "'.............###########....'\n",
    "'..............##########....'\n",
    "'...............#########....'\n",
    "'...............#########....'\n",
    "'...............########.....'\n",
    "'..............#######.......'\n",
    "'.#######...########.........'\n",
    "'...#############............'\n",
    "'............................'\n",
    "'............................'\n",
    "'............................'\n",
    "'............................'\n",
    "'............................'\n",
    "'............................'\n",
    ")\n",
    "\n",
    "tensors = [image_to_tensor(pattern) for pattern in patterns]\n",
    "#print(type(tensors[0]))\n",
    "for x in tensors:\n",
    "    digitplot(x)\n",
    "    digitplot(dbn.reconstruct(Variable(x), 10).data)"
   ]
  }
 ],
 "metadata": {
  "kernelspec": {
   "display_name": "Python 3",
   "language": "python",
   "name": "python3"
  },
  "language_info": {
   "codemirror_mode": {
    "name": "ipython",
    "version": 3
   },
   "file_extension": ".py",
   "mimetype": "text/x-python",
   "name": "python",
   "nbconvert_exporter": "python",
   "pygments_lexer": "ipython3",
   "version": "3.6.5"
  }
 },
 "nbformat": 4,
 "nbformat_minor": 2
}
