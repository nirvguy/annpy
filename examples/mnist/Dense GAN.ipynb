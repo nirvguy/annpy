{
 "cells": [
  {
   "cell_type": "code",
   "execution_count": 1,
   "metadata": {},
   "outputs": [],
   "source": [
    "import torch\n",
    "from torch import nn\n",
    "from torch.optim import SGD, Adam\n",
    "from annpy.models.gan import GAN\n",
    "from annpy.training import GANTrainer\n",
    "from torchvision import transforms\n",
    "from torch.utils.data import DataLoader\n",
    "from torchvision.datasets import MNIST\n",
    "from torchtrainer.callbacks import Logger\n",
    "from torchtrainer.utils.data.datasets import UnsuperviseDataset\n",
    "import matplotlib.pyplot as plt\n",
    "\n",
    "\n",
    "WIDTH=28\n",
    "HEIGHT=28\n",
    "USE_CUDA=True"
   ]
  },
  {
   "cell_type": "code",
   "execution_count": 2,
   "metadata": {},
   "outputs": [],
   "source": [
    "generator = nn.Sequential(nn.Linear(in_features=64, out_features=1000),\n",
    "                          nn.BatchNorm1d(1000),\n",
    "                          nn.ReLU(inplace=True),\n",
    "                          nn.Dropout(p=0.5),\n",
    "                          nn.Linear(in_features=1000, out_features=28*28),\n",
    "                          nn.Sigmoid(),\n",
    "                          nn.Dropout(p=0.1),\n",
    "                         )\n",
    "generator.input_shape = (64,)"
   ]
  },
  {
   "cell_type": "code",
   "execution_count": 3,
   "metadata": {},
   "outputs": [],
   "source": [
    "discriminator = nn.Sequential(nn.Linear(in_features=28*28, out_features=1000),\n",
    "                              nn.BatchNorm1d(1000),\n",
    "                              nn.ReLU(inplace=True),\n",
    "                              nn.Dropout(p=0.5),\n",
    "                              nn.Linear(in_features=1000, out_features=1),\n",
    "                              )"
   ]
  },
  {
   "cell_type": "code",
   "execution_count": 4,
   "metadata": {},
   "outputs": [],
   "source": [
    "m = GAN(generator=generator, discriminator=discriminator)"
   ]
  },
  {
   "cell_type": "code",
   "execution_count": 5,
   "metadata": {},
   "outputs": [
    {
     "data": {
      "text/plain": [
       "Sequential(\n",
       "  (0): Linear(in_features=64, out_features=1000, bias=True)\n",
       "  (1): BatchNorm1d(1000, eps=1e-05, momentum=0.1, affine=True)\n",
       "  (2): ReLU(inplace)\n",
       "  (3): Dropout(p=0.5)\n",
       "  (4): Linear(in_features=1000, out_features=784, bias=True)\n",
       "  (5): Sigmoid()\n",
       "  (6): Dropout(p=0.1)\n",
       ")"
      ]
     },
     "execution_count": 5,
     "metadata": {},
     "output_type": "execute_result"
    }
   ],
   "source": [
    "m.generator"
   ]
  },
  {
   "cell_type": "code",
   "execution_count": 6,
   "metadata": {},
   "outputs": [
    {
     "data": {
      "text/plain": [
       "(64,)"
      ]
     },
     "execution_count": 6,
     "metadata": {},
     "output_type": "execute_result"
    }
   ],
   "source": [
    "m.generator.input_shape"
   ]
  },
  {
   "cell_type": "code",
   "execution_count": 7,
   "metadata": {},
   "outputs": [
    {
     "data": {
      "text/plain": [
       "Sequential(\n",
       "  (0): Linear(in_features=784, out_features=1000, bias=True)\n",
       "  (1): BatchNorm1d(1000, eps=1e-05, momentum=0.1, affine=True)\n",
       "  (2): ReLU(inplace)\n",
       "  (3): Dropout(p=0.5)\n",
       "  (4): Linear(in_features=1000, out_features=1, bias=True)\n",
       ")"
      ]
     },
     "execution_count": 7,
     "metadata": {},
     "output_type": "execute_result"
    }
   ],
   "source": [
    "m.discriminator"
   ]
  },
  {
   "cell_type": "code",
   "execution_count": 19,
   "metadata": {},
   "outputs": [],
   "source": [
    "def showsample():\n",
    "    sample = m.sample(1).data[0]\n",
    "    im = sample.view(WIDTH,HEIGHT)\n",
    "    if USE_CUDA:\n",
    "        im = im.cpu()\n",
    "    plt.imshow(im.numpy())\n",
    "    plt.colorbar()\n",
    "    plt.show()"
   ]
  },
  {
   "cell_type": "code",
   "execution_count": 9,
   "metadata": {},
   "outputs": [],
   "source": [
    "g_optimizer = Adam(m.generator.parameters(), lr=1e-3, betas=(0.5, 0.999))\n",
    "d_optimizer = Adam(m.discriminator.parameters(), lr=1e-3, betas=(0.5, 0.999))"
   ]
  },
  {
   "cell_type": "code",
   "execution_count": 10,
   "metadata": {},
   "outputs": [],
   "source": [
    "trainer = GANTrainer(m,\n",
    "                     d_optimizer,\n",
    "                     g_optimizer,\n",
    "                     callbacks=[Logger()],\n",
    "                     logging_frecuency=50,\n",
    "                     soft_labels_eps=0)"
   ]
  },
  {
   "cell_type": "code",
   "execution_count": 11,
   "metadata": {},
   "outputs": [],
   "source": [
    "transform = transforms.Compose([transforms.Resize((WIDTH, HEIGHT)),\n",
    "                                transforms.ToTensor(),\n",
    "                                #transforms.Normalize((0.5,), (1.005,)),\n",
    "                                transforms.Lambda(lambda x: x.view(-1))])"
   ]
  },
  {
   "cell_type": "code",
   "execution_count": 12,
   "metadata": {},
   "outputs": [],
   "source": [
    "train_ds = UnsuperviseDataset(MNIST(root='data', download=True, train=False, transform=transform))\n",
    "test_ds = UnsuperviseDataset(MNIST(root='data', download=False, train=False, transform=transform))"
   ]
  },
  {
   "cell_type": "code",
   "execution_count": 13,
   "metadata": {},
   "outputs": [
    {
     "data": {
      "image/png": "[encoded data removed]",
      "text/plain": [
       "<Figure size 432x288 with 1 Axes>"
      ]
     },
     "metadata": {},
     "output_type": "display_data"
    }
   ],
   "source": [
    "plt.imshow(train_ds[0].view(WIDTH,HEIGHT).cpu().numpy())\n",
    "plt.show()"
   ]
  },
  {
   "cell_type": "code",
   "execution_count": 14,
   "metadata": {},
   "outputs": [],
   "source": [
    "dataloader = DataLoader(train_ds, batch_size=512)\n",
    "test_dl = DataLoader(test_ds, batch_size=512)"
   ]
  },
  {
   "cell_type": "code",
   "execution_count": 15,
   "metadata": {},
   "outputs": [],
   "source": [
    "if USE_CUDA:\n",
    "    trainer.cuda()"
   ]
  },
  {
   "cell_type": "code",
   "execution_count": 16,
   "metadata": {},
   "outputs": [
    {
     "name": "stdout",
     "output_type": "stream",
     "text": [
      "epoch: 0/30,\tstep: 19/20,\ttrain_loss: 1.345,\ttrain_g_loss: 0.669,\ttrain_d_loss: 0.676,\tval_loss: 1.840,\tval_g_loss: 0.769,\tval_d_loss: 1.071\n",
      "epoch: 1/30,\tstep: 19/20,\ttrain_loss: 1.204,\ttrain_g_loss: 0.590,\ttrain_d_loss: 0.613,\tval_loss: 3.025,\tval_g_loss: 0.947,\tval_d_loss: 2.078\n",
      "epoch: 2/30,\tstep: 19/20,\ttrain_loss: 1.058,\ttrain_g_loss: 0.512,\ttrain_d_loss: 0.545,\tval_loss: 2.941,\tval_g_loss: 0.909,\tval_d_loss: 2.031\n",
      "epoch: 3/30,\tstep: 19/20,\ttrain_loss: 0.923,\ttrain_g_loss: 0.441,\ttrain_d_loss: 0.482,\tval_loss: 2.369,\tval_g_loss: 0.698,\tval_d_loss: 1.672\n",
      "epoch: 4/30,\tstep: 19/20,\ttrain_loss: 0.778,\ttrain_g_loss: 0.372,\ttrain_d_loss: 0.406,\tval_loss: 2.005,\tval_g_loss: 0.275,\tval_d_loss: 1.730\n",
      "epoch: 5/30,\tstep: 19/20,\ttrain_loss: 0.657,\ttrain_g_loss: 0.311,\ttrain_d_loss: 0.346,\tval_loss: 2.871,\tval_g_loss: 0.081,\tval_d_loss: 2.790\n",
      "epoch: 6/30,\tstep: 19/20,\ttrain_loss: 0.546,\ttrain_g_loss: 0.259,\ttrain_d_loss: 0.287,\tval_loss: 3.825,\tval_g_loss: 0.030,\tval_d_loss: 3.795\n",
      "epoch: 7/30,\tstep: 19/20,\ttrain_loss: 0.537,\ttrain_g_loss: 0.250,\ttrain_d_loss: 0.287,\tval_loss: 5.579,\tval_g_loss: 0.042,\tval_d_loss: 5.536\n",
      "epoch: 8/30,\tstep: 19/20,\ttrain_loss: 0.517,\ttrain_g_loss: 0.243,\ttrain_d_loss: 0.275,\tval_loss: 4.113,\tval_g_loss: 0.116,\tval_d_loss: 3.997\n",
      "epoch: 9/30,\tstep: 19/20,\ttrain_loss: 0.600,\ttrain_g_loss: 0.270,\ttrain_d_loss: 0.330,\tval_loss: 1.801,\tval_g_loss: 0.134,\tval_d_loss: 1.668\n",
      "epoch: 10/30,\tstep: 19/20,\ttrain_loss: 0.545,\ttrain_g_loss: 0.258,\ttrain_d_loss: 0.286,\tval_loss: 0.973,\tval_g_loss: 0.289,\tval_d_loss: 0.684\n",
      "epoch: 11/30,\tstep: 19/20,\ttrain_loss: 0.527,\ttrain_g_loss: 0.248,\ttrain_d_loss: 0.278,\tval_loss: 0.525,\tval_g_loss: 0.106,\tval_d_loss: 0.418\n",
      "epoch: 12/30,\tstep: 19/20,\ttrain_loss: 0.420,\ttrain_g_loss: 0.210,\ttrain_d_loss: 0.210,\tval_loss: 0.631,\tval_g_loss: 0.220,\tval_d_loss: 0.411\n",
      "epoch: 13/30,\tstep: 19/20,\ttrain_loss: 0.361,\ttrain_g_loss: 0.183,\ttrain_d_loss: 0.178,\tval_loss: 0.881,\tval_g_loss: 0.037,\tval_d_loss: 0.845\n",
      "epoch: 14/30,\tstep: 19/20,\ttrain_loss: 0.330,\ttrain_g_loss: 0.167,\ttrain_d_loss: 0.163,\tval_loss: 0.602,\tval_g_loss: 0.051,\tval_d_loss: 0.551\n",
      "epoch: 15/30,\tstep: 19/20,\ttrain_loss: 0.321,\ttrain_g_loss: 0.162,\ttrain_d_loss: 0.158,\tval_loss: 0.976,\tval_g_loss: 0.016,\tval_d_loss: 0.959\n",
      "epoch: 16/30,\tstep: 19/20,\ttrain_loss: 0.278,\ttrain_g_loss: 0.141,\ttrain_d_loss: 0.136,\tval_loss: 0.380,\tval_g_loss: 0.021,\tval_d_loss: 0.360\n",
      "epoch: 17/30,\tstep: 19/20,\ttrain_loss: 0.250,\ttrain_g_loss: 0.126,\ttrain_d_loss: 0.124,\tval_loss: 0.310,\tval_g_loss: 0.208,\tval_d_loss: 0.102\n",
      "epoch: 18/30,\tstep: 19/20,\ttrain_loss: 0.233,\ttrain_g_loss: 0.114,\ttrain_d_loss: 0.119,\tval_loss: 0.410,\tval_g_loss: 0.157,\tval_d_loss: 0.253\n",
      "epoch: 19/30,\tstep: 19/20,\ttrain_loss: 0.169,\ttrain_g_loss: 0.086,\ttrain_d_loss: 0.083,\tval_loss: 0.405,\tval_g_loss: 0.061,\tval_d_loss: 0.344\n",
      "epoch: 20/30,\tstep: 19/20,\ttrain_loss: 0.202,\ttrain_g_loss: 0.104,\ttrain_d_loss: 0.098,\tval_loss: 0.480,\tval_g_loss: 0.321,\tval_d_loss: 0.159\n",
      "epoch: 21/30,\tstep: 19/20,\ttrain_loss: 0.158,\ttrain_g_loss: 0.080,\ttrain_d_loss: 0.078,\tval_loss: 0.347,\tval_g_loss: 0.035,\tval_d_loss: 0.311\n",
      "epoch: 22/30,\tstep: 19/20,\ttrain_loss: 0.128,\ttrain_g_loss: 0.065,\ttrain_d_loss: 0.063,\tval_loss: 0.250,\tval_g_loss: 0.027,\tval_d_loss: 0.222\n",
      "epoch: 23/30,\tstep: 19/20,\ttrain_loss: 0.115,\ttrain_g_loss: 0.057,\ttrain_d_loss: 0.058,\tval_loss: 0.144,\tval_g_loss: 0.017,\tval_d_loss: 0.127\n",
      "epoch: 24/30,\tstep: 19/20,\ttrain_loss: 0.114,\ttrain_g_loss: 0.058,\ttrain_d_loss: 0.056,\tval_loss: 0.219,\tval_g_loss: 0.019,\tval_d_loss: 0.201\n",
      "epoch: 25/30,\tstep: 19/20,\ttrain_loss: 0.105,\ttrain_g_loss: 0.053,\ttrain_d_loss: 0.052,\tval_loss: 0.148,\tval_g_loss: 0.020,\tval_d_loss: 0.129\n",
      "epoch: 26/30,\tstep: 19/20,\ttrain_loss: 0.091,\ttrain_g_loss: 0.045,\ttrain_d_loss: 0.045,\tval_loss: 0.218,\tval_g_loss: 0.034,\tval_d_loss: 0.185\n",
      "epoch: 27/30,\tstep: 19/20,\ttrain_loss: 0.080,\ttrain_g_loss: 0.040,\ttrain_d_loss: 0.040,\tval_loss: 0.368,\tval_g_loss: 0.034,\tval_d_loss: 0.334\n",
      "epoch: 28/30,\tstep: 19/20,\ttrain_loss: 0.076,\ttrain_g_loss: 0.038,\ttrain_d_loss: 0.038,\tval_loss: 0.452,\tval_g_loss: 0.005,\tval_d_loss: 0.448\n",
      "epoch: 29/30,\tstep: 19/20,\ttrain_loss: 0.074,\ttrain_g_loss: 0.038,\ttrain_d_loss: 0.037,\tval_loss: 0.841,\tval_g_loss: 0.092,\tval_d_loss: 0.749\n"
     ]
    }
   ],
   "source": [
    "trainer.train(dataloader,\n",
    "              valid_dataloader=test_dl,\n",
    "              epochs=30)"
   ]
  },
  {
   "cell_type": "code",
   "execution_count": 17,
   "metadata": {},
   "outputs": [
    {
     "data": {
      "image/png": "[encoded data removed]",
      "text/plain": [
       "<Figure size 432x288 with 1 Axes>"
      ]
     },
     "metadata": {},
     "output_type": "display_data"
    }
   ],
   "source": [
    "trainer.history.epoch_plot('train_loss')\n",
    "trainer.history.epoch_plot('train_d_loss')\n",
    "trainer.history.epoch_plot('train_d_loss')\n",
    "trainer.history.epoch_plot('val_loss')\n",
    "trainer.history.epoch_plot('val_d_loss')\n",
    "trainer.history.epoch_plot('val_g_loss')\n",
    "plt.legend()\n",
    "plt.show()"
   ]
  },
  {
   "cell_type": "code",
   "execution_count": 25,
   "metadata": {},
   "outputs": [
    {
     "data": {
      "image/png": "[encoded data removed]",
      "text/plain": [
       "<Figure size 432x288 with 2 Axes>"
      ]
     },
     "metadata": {},
     "output_type": "display_data"
    }
   ],
   "source": [
    "m.eval()\n",
    "showsample()"
   ]
  },
  {
   "cell_type": "code",
   "execution_count": 23,
   "metadata": {},
   "outputs": [
    {
     "data": {
      "image/png": "[encoded data removed]",
      "text/plain": [
       "<Figure size 432x288 with 2 Axes>"
      ]
     },
     "metadata": {},
     "output_type": "display_data"
    }
   ],
   "source": [
    "plt.imshow(train_ds[0].view(28,28).numpy())\n",
    "plt.colorbar()\n",
    "plt.show()"
   ]
  }
 ],
 "metadata": {
  "kernelspec": {
   "display_name": "Python 3",
   "language": "python",
   "name": "python3"
  },
  "language_info": {
   "codemirror_mode": {
    "name": "ipython",
    "version": 3
   },
   "file_extension": ".py",
   "mimetype": "text/x-python",
   "name": "python",
   "nbconvert_exporter": "python",
   "pygments_lexer": "ipython3",
   "version": "3.6.5"
  }
 },
 "nbformat": 4,
 "nbformat_minor": 2
}
