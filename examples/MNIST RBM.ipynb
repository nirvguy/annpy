{
 "cells": [
  {
   "cell_type": "markdown",
   "metadata": {},
   "source": [
    "# Restricted Boltzmann Machines - MNIST #"
   ]
  },
  {
   "cell_type": "code",
   "execution_count": 1,
   "metadata": {},
   "outputs": [],
   "source": [
    "import torch\n",
    "from torch.autograd import Variable\n",
    "from torch.utils.data import DataLoader\n",
    "from torch.utils.data.dataset import Dataset\n",
    "\n",
    "import torchvision\n",
    "from torchvision.datasets import MNIST\n",
    "from torchvision import transforms\n",
    "\n",
    "import matplotlib.pyplot as plt\n",
    "\n",
    "from annpy.models.rbm import RBM, CDOptimizer\n",
    "from annpy.metrics import count_fails\n",
    "from annpy.training.unsupervised_trainer import UnsupervisedTrainer, ValidationGranularity\n",
    "import torchtrainer\n",
    "from torchtrainer.callbacks import Logger\n",
    "from torchtrainer.utils.data import UnsuperviseDataset\n",
    "\n",
    "TRAIN = True\n",
    "EPOCHS = 10\n",
    "MODEL_PATH = 'models_saved'"
   ]
  },
  {
   "cell_type": "markdown",
   "metadata": {},
   "source": [
    "First some auxiliary function definitions to convert torch Images to PyTorch Tensors to images and viceversa "
   ]
  },
  {
   "cell_type": "code",
   "execution_count": 2,
   "metadata": {},
   "outputs": [],
   "source": [
    "def tensor_to_numpy_matrix(vector, shape=(28, 28)):\n",
    "    return vector.numpy().reshape(*shape)"
   ]
  },
  {
   "cell_type": "markdown",
   "metadata": {},
   "source": [
    "Load MNIST training database using python-mnist package"
   ]
  },
  {
   "cell_type": "code",
   "execution_count": 3,
   "metadata": {},
   "outputs": [],
   "source": [
    "def tensor_to_binary_tensor(tensor):\n",
    "    return tensor.apply_(lambda x: 1.0 if x > 0 else 0.0)\n",
    "\n",
    "def image_to_tensor(img):\n",
    "    return torch.Tensor([1.0 if x == '#' else 0.0 for x in img])\n",
    "\n",
    "data_transform = transforms.Compose([transforms.ToTensor(),\n",
    "                                     transforms.Lambda(lambda x: x.view(x.numel())),\n",
    "                                     tensor_to_binary_tensor])\n",
    "\n",
    "training_dataset = UnsuperviseDataset(MNIST('data', train=True, transform=data_transform, download=True))\n",
    "\n",
    "data_loader = DataLoader(training_dataset,\n",
    "                          batch_size=2048,\n",
    "                          shuffle=True,\n",
    "                          num_workers=4,\n",
    "                           )\n",
    "test_dataset = UnsuperviseDataset(MNIST('data', train=False, transform=data_transform, download=True))\n",
    "valid_dataloader = DataLoader(test_dataset,\n",
    "                          batch_size=2048,\n",
    "                          shuffle=True,\n",
    "                          num_workers=4,\n",
    "                           )\n",
    "ROW_CELLS = 28\n",
    "COL_CELLS = 28\n",
    "CELLS = ROW_CELLS * COL_CELLS"
   ]
  },
  {
   "cell_type": "markdown",
   "metadata": {},
   "source": [
    "Turn training images list into a PyTorch matrix"
   ]
  },
  {
   "cell_type": "markdown",
   "metadata": {},
   "source": [
    "Lets initialize the Restricted Boltzman Machine network with many inputs as image size units and 300 hidden units"
   ]
  },
  {
   "cell_type": "code",
   "execution_count": 4,
   "metadata": {},
   "outputs": [],
   "source": [
    "network = RBM(CELLS, 300)"
   ]
  },
  {
   "cell_type": "code",
   "execution_count": 5,
   "metadata": {},
   "outputs": [
    {
     "data": {
      "text/plain": [
       "RBM (784 -> 300)"
      ]
     },
     "execution_count": 5,
     "metadata": {},
     "output_type": "execute_result"
    }
   ],
   "source": [
    "network"
   ]
  },
  {
   "cell_type": "markdown",
   "metadata": {},
   "source": [
    "If there was a pretrained network, load it"
   ]
  },
  {
   "cell_type": "code",
   "execution_count": 6,
   "metadata": {},
   "outputs": [],
   "source": [
    "#network_path = os.path.join(MODEL_PATH, 'network1.model')\n",
    "#if os.path.exists(network_path):\n",
    "#    network.load_state_dict(torch.load(network_path))\n",
    "#    print(\"Pretrained network loaded!\")"
   ]
  },
  {
   "cell_type": "markdown",
   "metadata": {},
   "source": [
    "Train the network 20 epochs over all pattern images and meanwhile registering training time & error of training per epoch. The training error is computed by counting all diferences between pattern and its reconstruction."
   ]
  },
  {
   "cell_type": "code",
   "execution_count": 7,
   "metadata": {},
   "outputs": [],
   "source": [
    "optimizer = CDOptimizer(network, lr=0.1)\n",
    "trainer = UnsupervisedTrainer(model=network,\n",
    "                              optimizer=optimizer,\n",
    "                              callbacks=[Logger()],\n",
    "                              logging_frecuency=10,\n",
    "                              validation_granularity=ValidationGranularity.AT_EPOCH)"
   ]
  },
  {
   "cell_type": "code",
   "execution_count": 8,
   "metadata": {
    "scrolled": true
   },
   "outputs": [
    {
     "name": "stdout",
     "output_type": "stream",
     "text": [
      "epoch: 0/10,\tstep: 9/30,\ttrain_reconstruction_loss: 0.246\n",
      "epoch: 0/10,\tstep: 19/30,\ttrain_reconstruction_loss: 0.210\n",
      "epoch: 0/10,\tstep: 29/30,\ttrain_reconstruction_loss: 0.180,\tval_reconstruction_loss: 0.158\n",
      "epoch: 1/10,\tstep: 9/30,\ttrain_reconstruction_loss: 0.160\n",
      "epoch: 1/10,\tstep: 19/30,\ttrain_reconstruction_loss: 0.145\n",
      "epoch: 1/10,\tstep: 29/30,\ttrain_reconstruction_loss: 0.136,\tval_reconstruction_loss: 0.131\n",
      "epoch: 2/10,\tstep: 9/30,\ttrain_reconstruction_loss: 0.130\n",
      "epoch: 2/10,\tstep: 19/30,\ttrain_reconstruction_loss: 0.125\n",
      "epoch: 2/10,\tstep: 29/30,\ttrain_reconstruction_loss: 0.122,\tval_reconstruction_loss: 0.119\n",
      "epoch: 3/10,\tstep: 9/30,\ttrain_reconstruction_loss: 0.119\n",
      "epoch: 3/10,\tstep: 19/30,\ttrain_reconstruction_loss: 0.115\n",
      "epoch: 3/10,\tstep: 29/30,\ttrain_reconstruction_loss: 0.112,\tval_reconstruction_loss: 0.109\n",
      "epoch: 4/10,\tstep: 9/30,\ttrain_reconstruction_loss: 0.109\n",
      "epoch: 4/10,\tstep: 19/30,\ttrain_reconstruction_loss: 0.107\n",
      "epoch: 4/10,\tstep: 29/30,\ttrain_reconstruction_loss: 0.105,\tval_reconstruction_loss: 0.103\n",
      "epoch: 5/10,\tstep: 9/30,\ttrain_reconstruction_loss: 0.103\n",
      "epoch: 5/10,\tstep: 19/30,\ttrain_reconstruction_loss: 0.101\n",
      "epoch: 5/10,\tstep: 29/30,\ttrain_reconstruction_loss: 0.099,\tval_reconstruction_loss: 0.098\n",
      "epoch: 6/10,\tstep: 9/30,\ttrain_reconstruction_loss: 0.097\n",
      "epoch: 6/10,\tstep: 19/30,\ttrain_reconstruction_loss: 0.096\n",
      "epoch: 6/10,\tstep: 29/30,\ttrain_reconstruction_loss: 0.095,\tval_reconstruction_loss: 0.093\n",
      "epoch: 7/10,\tstep: 9/30,\ttrain_reconstruction_loss: 0.093\n",
      "epoch: 7/10,\tstep: 19/30,\ttrain_reconstruction_loss: 0.092\n",
      "epoch: 7/10,\tstep: 29/30,\ttrain_reconstruction_loss: 0.091,\tval_reconstruction_loss: 0.089\n",
      "epoch: 8/10,\tstep: 9/30,\ttrain_reconstruction_loss: 0.090\n",
      "epoch: 8/10,\tstep: 19/30,\ttrain_reconstruction_loss: 0.089\n",
      "epoch: 8/10,\tstep: 29/30,\ttrain_reconstruction_loss: 0.088,\tval_reconstruction_loss: 0.087\n",
      "epoch: 9/10,\tstep: 9/30,\ttrain_reconstruction_loss: 0.087\n",
      "epoch: 9/10,\tstep: 19/30,\ttrain_reconstruction_loss: 0.085\n",
      "epoch: 9/10,\tstep: 29/30,\ttrain_reconstruction_loss: 0.085,\tval_reconstruction_loss: 0.084\n"
     ]
    }
   ],
   "source": [
    "if TRAIN:\n",
    "    trainer.train(data_loader,\n",
    "                  valid_dataloader=valid_dataloader,\n",
    "                  epochs=EPOCHS)"
   ]
  },
  {
   "cell_type": "markdown",
   "metadata": {},
   "source": [
    "### Trainining measurements ###"
   ]
  },
  {
   "cell_type": "code",
   "execution_count": 9,
   "metadata": {},
   "outputs": [
    {
     "data": {
      "image/png": "[encoded data removed]",
      "text/plain": [
       "<Figure size 432x288 with 1 Axes>"
      ]
     },
     "metadata": {},
     "output_type": "display_data"
    }
   ],
   "source": [
    "trainer.history.step_plot('train_reconstruction_loss')\n",
    "trainer.history.step_plot('val_reconstruction_loss')\n",
    "plt.xlabel('Epoch')\n",
    "plt.ylabel('Reconstruction loss')\n",
    "plt.show()"
   ]
  },
  {
   "cell_type": "markdown",
   "metadata": {},
   "source": [
    "## Weights Visualization ##"
   ]
  },
  {
   "cell_type": "code",
   "execution_count": 10,
   "metadata": {},
   "outputs": [],
   "source": [
    "def digitplot(x, show=True):\n",
    "    plt.matshow(tensor_to_numpy_matrix(x))\n",
    "    if show:\n",
    "        plt.show()"
   ]
  },
  {
   "cell_type": "markdown",
   "metadata": {},
   "source": [
    "* Visible biases"
   ]
  },
  {
   "cell_type": "code",
   "execution_count": 11,
   "metadata": {},
   "outputs": [
    {
     "data": {
      "image/png": "[encoded data removed]",
      "text/plain": [
       "<Figure size 288x288 with 1 Axes>"
      ]
     },
     "metadata": {},
     "output_type": "display_data"
    }
   ],
   "source": [
    "digitplot(network.visible_biases.data)"
   ]
  },
  {
   "cell_type": "markdown",
   "metadata": {},
   "source": [
    "* Weights associated to some hidden units"
   ]
  },
  {
   "cell_type": "code",
   "execution_count": 12,
   "metadata": {},
   "outputs": [
    {
     "data": {
      "image/png": "[encoded data removed]",
      "text/plain": [
       "<Figure size 288x288 with 1 Axes>"
      ]
     },
     "metadata": {},
     "output_type": "display_data"
    },
    {
     "data": {
      "image/png": "[encoded data removed]",
      "text/plain": [
       "<Figure size 288x288 with 1 Axes>"
      ]
     },
     "metadata": {},
     "output_type": "display_data"
    },
    {
     "data": {
      "image/png": "[encoded data removed]",
      "text/plain": [
       "<Figure size 288x288 with 1 Axes>"
      ]
     },
     "metadata": {},
     "output_type": "display_data"
    },
    {
     "data": {
      "image/png": "[encoded data removed]",
      "text/plain": [
       "<Figure size 288x288 with 1 Axes>"
      ]
     },
     "metadata": {},
     "output_type": "display_data"
    },
    {
     "data": {
      "image/png": "[encoded data removed]",
      "text/plain": [
       "<Figure size 288x288 with 1 Axes>"
      ]
     },
     "metadata": {},
     "output_type": "display_data"
    },
    {
     "data": {
      "image/png": "[encoded data removed]",
      "text/plain": [
       "<Figure size 288x288 with 1 Axes>"
      ]
     },
     "metadata": {},
     "output_type": "display_data"
    }
   ],
   "source": [
    "for i in range(0,300,50):\n",
    "    weights = torch.t(network.weights)[i].long()\n",
    "    digitplot(weights.data)"
   ]
  },
  {
   "cell_type": "code",
   "execution_count": 13,
   "metadata": {},
   "outputs": [],
   "source": [
    "SAVE_WEIGHTS_IMAGES = False\n",
    "\n",
    "if SAVE_WEIGHTS_IMAGES:\n",
    "    fig = plt.figure(figsize=(3, 3))\n",
    "\n",
    "    for i in range(0,300):\n",
    "        weights = torch.t(network.weights.data)[i].long()\n",
    "        digitplot(weights, show=False)\n",
    "        plt.savefig('weights/{}.png'.format(i))"
   ]
  },
  {
   "cell_type": "markdown",
   "metadata": {},
   "source": [
    "## Pattern reconstruction ##"
   ]
  },
  {
   "cell_type": "markdown",
   "metadata": {},
   "source": [
    "* Feeding with partially filled digits can reconstruct its entirely"
   ]
  },
  {
   "cell_type": "code",
   "execution_count": 14,
   "metadata": {},
   "outputs": [
    {
     "data": {
      "image/png": "[encoded data removed]",
      "text/plain": [
       "<Figure size 288x288 with 1 Axes>"
      ]
     },
     "metadata": {},
     "output_type": "display_data"
    },
    {
     "data": {
      "image/png": "[encoded data removed]",
      "text/plain": [
       "<Figure size 288x288 with 1 Axes>"
      ]
     },
     "metadata": {},
     "output_type": "display_data"
    },
    {
     "data": {
      "image/png": "[encoded data removed]",
      "text/plain": [
       "<Figure size 288x288 with 1 Axes>"
      ]
     },
     "metadata": {},
     "output_type": "display_data"
    },
    {
     "data": {
      "image/png": "[encoded data removed]",
      "text/plain": [
       "<Figure size 288x288 with 1 Axes>"
      ]
     },
     "metadata": {},
     "output_type": "display_data"
    }
   ],
   "source": [
    "patterns = ('............................'\n",
    "'............................'\n",
    "'.....................#......'\n",
    "'............................'\n",
    "'..........###.###...........'\n",
    "'........###########.........'\n",
    "'........############........'\n",
    "'.......#####.....#####......'\n",
    "'.......####.......####......'\n",
    "'........####.....#####......'\n",
    "'........###.....#####.......'\n",
    "'..#......####..######.......'\n",
    "'........###########.........'\n",
    "'............................'\n",
    "'............................'\n",
    "'...........######...........'\n",
    "'...#.......#######..........'\n",
    "'..........####..###.........'\n",
    "'.........#####..###.........'\n",
    "'.........####...###.........'\n",
    "'.........###................'\n",
    "'........#..#...####.........'\n",
    "'........####...####.........'\n",
    "'........###...####..........'\n",
    "'.........###########........'\n",
    "'............................'\n",
    "'............................'\n",
    "'............................',\n",
    "###############################\n",
    "'............................'\n",
    "'............................'\n",
    "'............................'\n",
    "'............................'\n",
    "'............................'\n",
    "'.....##################.....'\n",
    "'.....#################......'\n",
    "'....################........'\n",
    "'..#########.................'\n",
    "'..#########.................'\n",
    "'..#######...................'\n",
    "'..###########.#####.........'\n",
    "'...###################......'\n",
    "'...####################.....'\n",
    "'.............###########....'\n",
    "'..............##########....'\n",
    "'...............#########....'\n",
    "'...............#########....'\n",
    "'...............########.....'\n",
    "'..............#######.......'\n",
    "'.#######...########.........'\n",
    "'...#############............'\n",
    "'............................'\n",
    "'............................'\n",
    "'............................'\n",
    "'............................'\n",
    "'............................'\n",
    "'............................'\n",
    ")\n",
    "\n",
    "tensors = [image_to_tensor(pattern) for pattern in patterns]\n",
    "#print(type(tensors[0]))\n",
    "for x in tensors:\n",
    "    digitplot(x)\n",
    "    digitplot(network.reconstruct(Variable(x), 10).data)"
   ]
  },
  {
   "cell_type": "markdown",
   "metadata": {},
   "source": [
    "* Also like Hopfield networks (but with more capacity and without spinning glasses) can reconstruct the entire pattern with a noisy one"
   ]
  },
  {
   "cell_type": "code",
   "execution_count": 15,
   "metadata": {},
   "outputs": [
    {
     "name": "stdout",
     "output_type": "stream",
     "text": [
      "Noise factor: 0.1\n",
      "Original pattern: \n"
     ]
    },
    {
     "data": {
      "image/png": "[encoded data removed]",
      "text/plain": [
       "<Figure size 288x288 with 1 Axes>"
      ]
     },
     "metadata": {},
     "output_type": "display_data"
    },
    {
     "name": "stdout",
     "output_type": "stream",
     "text": [
      "Disturbed pattern: \n"
     ]
    },
    {
     "data": {
      "image/png": "[encoded data removed]",
      "text/plain": [
       "<Figure size 288x288 with 1 Axes>"
      ]
     },
     "metadata": {},
     "output_type": "display_data"
    },
    {
     "name": "stdout",
     "output_type": "stream",
     "text": [
      "Reconstructed pattern: \n"
     ]
    },
    {
     "data": {
      "image/png": "[encoded data removed]",
      "text/plain": [
       "<Figure size 288x288 with 1 Axes>"
      ]
     },
     "metadata": {},
     "output_type": "display_data"
    }
   ],
   "source": [
    "import numpy as np\n",
    "\n",
    "noise_factor = float(input(\"Noise factor: \"))\n",
    "\n",
    "image_tensor = training_dataset[np.random.randint(len(training_dataset))]\n",
    "\n",
    "def perturb_pattern(tensor, noise_factor=0.5):\n",
    "    if noise_factor > 1.0:\n",
    "        raise Exception(\"Noise factor must be between 0 and 1\")\n",
    "    \n",
    "    x = torch.bernoulli(torch.ones(CELLS) * noise_factor)\n",
    "    \n",
    "    return (x - tensor).pow(2)\n",
    "\n",
    "disturbed_pattern = perturb_pattern(image_tensor, noise_factor)\n",
    "print(\"Original pattern: \")\n",
    "digitplot(image_tensor)\n",
    "print(\"Disturbed pattern: \")\n",
    "digitplot(disturbed_pattern)\n",
    "print(\"Reconstructed pattern: \")\n",
    "#print(image_tensor)\n",
    "digitplot(network.reconstruct(Variable(image_tensor), 10).data)"
   ]
  },
  {
   "cell_type": "code",
   "execution_count": 16,
   "metadata": {},
   "outputs": [],
   "source": [
    "def hiddenshow(tensor):\n",
    "    plt.matshow(tensor_to_numpy_matrix(tensor, shape=(30,10)))\n",
    "    #plt.show()"
   ]
  },
  {
   "cell_type": "code",
   "execution_count": 17,
   "metadata": {},
   "outputs": [],
   "source": [
    "SAVE_HIDDEN_PROBAS = False\n",
    "\n",
    "if SAVE_HIDDEN_PROBAS:\n",
    "    fig = plt.figure(figsize=(2, 6))\n",
    "    images, labels = mndata.load_testing()\n",
    "    images = images[:500]\n",
    "    labels = labels[:500]\n",
    "    for digit in range(0,10):\n",
    "        for i, image_target in enumerate(zip(images, labels)):\n",
    "            image, target = image_target\n",
    "            x = network.proba_h_given_v(torch.Tensor(mnist_image_to_list(image)))\n",
    "            hiddenshow(x)\n",
    "            plt.savefig('hidden/{}/{}.png'.format(digit, target))"
   ]
  },
  {
   "cell_type": "markdown",
   "metadata": {
    "collapsed": true
   },
   "source": [
    "## Training the second network ##"
   ]
  },
  {
   "cell_type": "code",
   "execution_count": 18,
   "metadata": {},
   "outputs": [],
   "source": [
    "data_transform_2 = transforms.Compose([transforms.ToTensor(),\n",
    "                                       transforms.Lambda(lambda x: x.view(x.numel())),\n",
    "                                       tensor_to_binary_tensor,\n",
    "                                       transforms.Lambda(lambda x: network.sample_h_given_v(Variable(x)).data)])\n",
    "transformed_training_dataset = UnsuperviseDataset(MNIST('data', train=True, transform=data_transform_2, download=True))\n",
    "transformed_test_dataset = UnsuperviseDataset(MNIST('data', train=False, transform=data_transform_2, download=True))\n",
    "data_loader_2 = DataLoader(transformed_training_dataset,\n",
    "                          batch_size=2048,\n",
    "                          shuffle=True,\n",
    "                          num_workers=4,\n",
    "                           )\n",
    "test_data_loader_2 = DataLoader(transformed_test_dataset,\n",
    "                          batch_size=2048,\n",
    "                          shuffle=True,\n",
    "                          num_workers=4,\n",
    "                           )"
   ]
  },
  {
   "cell_type": "code",
   "execution_count": 19,
   "metadata": {},
   "outputs": [],
   "source": [
    "network2 = RBM(300, 10)\n",
    "optimizer = CDOptimizer(network2, lr=0.1)\n",
    "trainer_2 = UnsupervisedTrainer(model=network2,\n",
    "                              optimizer=optimizer,\n",
    "                              callbacks=[Logger()],\n",
    "                              logging_frecuency=10,\n",
    "                              validation_granularity=ValidationGranularity.AT_LOG)"
   ]
  },
  {
   "cell_type": "code",
   "execution_count": 20,
   "metadata": {},
   "outputs": [],
   "source": [
    "#network_path = os.path.join(MODEL_PATH, 'network2.model')\n",
    "\n",
    "#if os.path.exists(network_path):\n",
    "#    network2.load_state_dict(torch.load(network_path))\n",
    "#    print(\"Pretrained network loaded!\")"
   ]
  },
  {
   "cell_type": "code",
   "execution_count": 21,
   "metadata": {},
   "outputs": [
    {
     "name": "stdout",
     "output_type": "stream",
     "text": [
      "epoch: 0/10,\tstep: 9/30,\ttrain_reconstruction_loss: 0.467,\tval_reconstruction_loss: 0.436\n",
      "epoch: 0/10,\tstep: 19/30,\ttrain_reconstruction_loss: 0.429,\tval_reconstruction_loss: 0.422\n",
      "epoch: 0/10,\tstep: 29/30,\ttrain_reconstruction_loss: 0.420,\tval_reconstruction_loss: 0.417\n",
      "epoch: 1/10,\tstep: 9/30,\ttrain_reconstruction_loss: 0.417,\tval_reconstruction_loss: 0.415\n",
      "epoch: 1/10,\tstep: 19/30,\ttrain_reconstruction_loss: 0.414,\tval_reconstruction_loss: 0.411\n",
      "epoch: 1/10,\tstep: 29/30,\ttrain_reconstruction_loss: 0.410,\tval_reconstruction_loss: 0.407\n",
      "epoch: 2/10,\tstep: 9/30,\ttrain_reconstruction_loss: 0.407,\tval_reconstruction_loss: 0.404\n",
      "epoch: 2/10,\tstep: 19/30,\ttrain_reconstruction_loss: 0.404,\tval_reconstruction_loss: 0.400\n",
      "epoch: 2/10,\tstep: 29/30,\ttrain_reconstruction_loss: 0.399,\tval_reconstruction_loss: 0.397\n",
      "epoch: 3/10,\tstep: 9/30,\ttrain_reconstruction_loss: 0.395,\tval_reconstruction_loss: 0.393\n",
      "epoch: 3/10,\tstep: 19/30,\ttrain_reconstruction_loss: 0.392,\tval_reconstruction_loss: 0.389\n",
      "epoch: 3/10,\tstep: 29/30,\ttrain_reconstruction_loss: 0.389,\tval_reconstruction_loss: 0.385\n",
      "epoch: 4/10,\tstep: 9/30,\ttrain_reconstruction_loss: 0.385,\tval_reconstruction_loss: 0.382\n",
      "epoch: 4/10,\tstep: 19/30,\ttrain_reconstruction_loss: 0.382,\tval_reconstruction_loss: 0.379\n",
      "epoch: 4/10,\tstep: 29/30,\ttrain_reconstruction_loss: 0.379,\tval_reconstruction_loss: 0.376\n",
      "epoch: 5/10,\tstep: 9/30,\ttrain_reconstruction_loss: 0.376,\tval_reconstruction_loss: 0.373\n",
      "epoch: 5/10,\tstep: 19/30,\ttrain_reconstruction_loss: 0.374,\tval_reconstruction_loss: 0.371\n",
      "epoch: 5/10,\tstep: 29/30,\ttrain_reconstruction_loss: 0.371,\tval_reconstruction_loss: 0.368\n",
      "epoch: 6/10,\tstep: 9/30,\ttrain_reconstruction_loss: 0.369,\tval_reconstruction_loss: 0.366\n",
      "epoch: 6/10,\tstep: 19/30,\ttrain_reconstruction_loss: 0.365,\tval_reconstruction_loss: 0.364\n",
      "epoch: 6/10,\tstep: 29/30,\ttrain_reconstruction_loss: 0.363,\tval_reconstruction_loss: 0.361\n",
      "epoch: 7/10,\tstep: 9/30,\ttrain_reconstruction_loss: 0.360,\tval_reconstruction_loss: 0.358\n",
      "epoch: 7/10,\tstep: 19/30,\ttrain_reconstruction_loss: 0.358,\tval_reconstruction_loss: 0.356\n",
      "epoch: 7/10,\tstep: 29/30,\ttrain_reconstruction_loss: 0.356,\tval_reconstruction_loss: 0.354\n",
      "epoch: 8/10,\tstep: 9/30,\ttrain_reconstruction_loss: 0.353,\tval_reconstruction_loss: 0.351\n",
      "epoch: 8/10,\tstep: 19/30,\ttrain_reconstruction_loss: 0.351,\tval_reconstruction_loss: 0.349\n",
      "epoch: 8/10,\tstep: 29/30,\ttrain_reconstruction_loss: 0.349,\tval_reconstruction_loss: 0.347\n",
      "epoch: 9/10,\tstep: 9/30,\ttrain_reconstruction_loss: 0.348,\tval_reconstruction_loss: 0.345\n",
      "epoch: 9/10,\tstep: 19/30,\ttrain_reconstruction_loss: 0.345,\tval_reconstruction_loss: 0.343\n",
      "epoch: 9/10,\tstep: 29/30,\ttrain_reconstruction_loss: 0.343,\tval_reconstruction_loss: 0.341\n"
     ]
    }
   ],
   "source": [
    "if TRAIN:\n",
    "    trainer_2.train(data_loader_2,\n",
    "                    valid_dataloader=test_data_loader_2,\n",
    "                    epochs=EPOCHS)"
   ]
  },
  {
   "cell_type": "code",
   "execution_count": 29,
   "metadata": {},
   "outputs": [
    {
     "name": "stdout",
     "output_type": "stream",
     "text": [
      "..........................0........................................\n",
      "(1.0, 1.0, 1.0, 1.0, 1.0, 1.0, 1.0, 1.0, 1.0, 0.0) : 24\n",
      "(1.0, 1.0, 1.0, 1.0, 1.0, 1.0, 1.0, 1.0, 1.0, 1.0) : 21\n",
      "(0.0, 1.0, 1.0, 1.0, 1.0, 1.0, 1.0, 1.0, 1.0, 0.0) : 5\n",
      "(1.0, 0.0, 1.0, 1.0, 1.0, 1.0, 1.0, 1.0, 1.0, 0.0) : 4\n",
      "(1.0, 1.0, 1.0, 1.0, 1.0, 0.0, 1.0, 1.0, 1.0, 1.0) : 4\n",
      "(0.0, 1.0, 1.0, 1.0, 1.0, 1.0, 1.0, 1.0, 1.0, 1.0) : 3\n",
      "(0.0, 1.0, 1.0, 1.0, 1.0, 1.0, 1.0, 1.0, 0.0, 0.0) : 3\n",
      "(1.0, 1.0, 1.0, 1.0, 1.0, 0.0, 1.0, 1.0, 1.0, 0.0) : 2\n",
      "(1.0, 1.0, 1.0, 1.0, 0.0, 1.0, 1.0, 1.0, 1.0, 0.0) : 2\n",
      "(1.0, 1.0, 0.0, 1.0, 1.0, 1.0, 0.0, 1.0, 1.0, 1.0) : 1\n",
      "(1.0, 1.0, 1.0, 1.0, 0.0, 0.0, 1.0, 1.0, 1.0, 1.0) : 1\n",
      "(1.0, 1.0, 1.0, 1.0, 0.0, 1.0, 1.0, 1.0, 1.0, 1.0) : 1\n",
      "(1.0, 1.0, 0.0, 1.0, 1.0, 1.0, 0.0, 1.0, 0.0, 1.0) : 1\n",
      "(1.0, 1.0, 0.0, 1.0, 1.0, 1.0, 1.0, 1.0, 0.0, 1.0) : 1\n",
      "(1.0, 0.0, 1.0, 1.0, 1.0, 0.0, 1.0, 1.0, 1.0, 1.0) : 1\n",
      "(1.0, 1.0, 0.0, 1.0, 0.0, 1.0, 0.0, 0.0, 0.0, 1.0) : 1\n",
      "(0.0, 1.0, 0.0, 1.0, 1.0, 1.0, 0.0, 1.0, 0.0, 1.0) : 1\n",
      "(1.0, 0.0, 0.0, 0.0, 1.0, 1.0, 0.0, 0.0, 1.0, 1.0) : 1\n",
      "(0.0, 1.0, 1.0, 1.0, 1.0, 0.0, 1.0, 1.0, 1.0, 0.0) : 1\n",
      "(0.0, 1.0, 1.0, 0.0, 1.0, 0.0, 1.0, 0.0, 1.0, 0.0) : 1\n",
      "(1.0, 0.0, 0.0, 0.0, 0.0, 1.0, 0.0, 0.0, 0.0, 1.0) : 1\n",
      "(1.0, 0.0, 1.0, 0.0, 1.0, 0.0, 0.0, 1.0, 1.0, 0.0) : 1\n",
      "(1.0, 0.0, 1.0, 1.0, 1.0, 0.0, 1.0, 1.0, 1.0, 0.0) : 1\n",
      "(1.0, 1.0, 1.0, 1.0, 1.0, 1.0, 1.0, 1.0, 0.0, 0.0) : 1\n",
      "(1.0, 0.0, 1.0, 1.0, 0.0, 1.0, 1.0, 1.0, 1.0, 1.0) : 1\n",
      "(0.0, 1.0, 0.0, 1.0, 1.0, 1.0, 1.0, 1.0, 0.0, 1.0) : 1\n",
      "..........................1........................................\n",
      "(0.0, 0.0, 0.0, 0.0, 0.0, 0.0, 0.0, 0.0, 0.0, 0.0) : 74\n",
      "(0.0, 0.0, 0.0, 0.0, 0.0, 1.0, 0.0, 0.0, 0.0, 0.0) : 43\n",
      "(1.0, 0.0, 0.0, 0.0, 0.0, 0.0, 0.0, 0.0, 0.0, 0.0) : 7\n",
      "(1.0, 0.0, 0.0, 0.0, 0.0, 0.0, 0.0, 0.0, 1.0, 0.0) : 1\n",
      "(1.0, 0.0, 0.0, 0.0, 0.0, 1.0, 0.0, 1.0, 0.0, 0.0) : 1\n",
      "..........................2........................................\n",
      "(1.0, 0.0, 1.0, 0.0, 0.0, 1.0, 0.0, 1.0, 0.0, 0.0) : 28\n",
      "(1.0, 0.0, 0.0, 0.0, 0.0, 1.0, 0.0, 1.0, 0.0, 0.0) : 12\n",
      "(1.0, 0.0, 1.0, 1.0, 0.0, 1.0, 1.0, 1.0, 0.0, 0.0) : 9\n",
      "(1.0, 0.0, 0.0, 0.0, 0.0, 1.0, 0.0, 0.0, 0.0, 0.0) : 5\n",
      "(1.0, 0.0, 1.0, 1.0, 0.0, 1.0, 0.0, 1.0, 0.0, 0.0) : 5\n",
      "(1.0, 0.0, 1.0, 1.0, 1.0, 1.0, 1.0, 1.0, 0.0, 0.0) : 4\n",
      "(1.0, 1.0, 1.0, 1.0, 0.0, 1.0, 1.0, 1.0, 0.0, 0.0) : 3\n",
      "(1.0, 0.0, 0.0, 1.0, 0.0, 1.0, 1.0, 1.0, 0.0, 0.0) : 3\n",
      "(1.0, 0.0, 0.0, 0.0, 0.0, 1.0, 0.0, 0.0, 0.0, 1.0) : 3\n",
      "(1.0, 1.0, 1.0, 1.0, 1.0, 1.0, 1.0, 1.0, 0.0, 0.0) : 3\n",
      "(1.0, 0.0, 1.0, 0.0, 0.0, 1.0, 1.0, 1.0, 0.0, 0.0) : 2\n",
      "(1.0, 0.0, 1.0, 0.0, 1.0, 1.0, 0.0, 1.0, 1.0, 0.0) : 2\n",
      "(1.0, 0.0, 1.0, 0.0, 1.0, 1.0, 0.0, 1.0, 0.0, 0.0) : 2\n",
      "(1.0, 0.0, 1.0, 0.0, 0.0, 1.0, 0.0, 1.0, 1.0, 0.0) : 2\n",
      "(1.0, 0.0, 0.0, 0.0, 0.0, 0.0, 0.0, 0.0, 1.0, 1.0) : 2\n",
      "(1.0, 0.0, 1.0, 0.0, 0.0, 1.0, 0.0, 0.0, 0.0, 0.0) : 2\n",
      "(0.0, 1.0, 1.0, 1.0, 1.0, 1.0, 1.0, 1.0, 0.0, 0.0) : 2\n",
      "(1.0, 0.0, 0.0, 0.0, 0.0, 0.0, 0.0, 0.0, 0.0, 0.0) : 2\n",
      "(1.0, 0.0, 0.0, 1.0, 0.0, 1.0, 0.0, 0.0, 0.0, 1.0) : 2\n",
      "(1.0, 0.0, 0.0, 1.0, 0.0, 1.0, 0.0, 1.0, 0.0, 0.0) : 1\n",
      "(1.0, 0.0, 0.0, 0.0, 1.0, 0.0, 0.0, 0.0, 0.0, 1.0) : 1\n",
      "(1.0, 1.0, 1.0, 1.0, 1.0, 0.0, 0.0, 0.0, 1.0, 1.0) : 1\n",
      "(1.0, 1.0, 0.0, 1.0, 0.0, 1.0, 1.0, 1.0, 0.0, 0.0) : 1\n",
      "(1.0, 0.0, 1.0, 1.0, 1.0, 1.0, 1.0, 1.0, 1.0, 1.0) : 1\n",
      "(1.0, 0.0, 1.0, 0.0, 0.0, 0.0, 0.0, 1.0, 0.0, 0.0) : 1\n",
      "(0.0, 0.0, 0.0, 0.0, 0.0, 1.0, 0.0, 1.0, 0.0, 0.0) : 1\n",
      "(1.0, 0.0, 1.0, 0.0, 0.0, 0.0, 0.0, 1.0, 0.0, 1.0) : 1\n",
      "(1.0, 0.0, 1.0, 1.0, 0.0, 1.0, 1.0, 1.0, 1.0, 0.0) : 1\n",
      "(0.0, 0.0, 0.0, 0.0, 0.0, 0.0, 0.0, 0.0, 0.0, 1.0) : 1\n",
      "(1.0, 0.0, 1.0, 1.0, 1.0, 1.0, 1.0, 1.0, 1.0, 0.0) : 1\n",
      "(1.0, 0.0, 1.0, 1.0, 1.0, 1.0, 0.0, 1.0, 0.0, 0.0) : 1\n",
      "(0.0, 1.0, 0.0, 1.0, 0.0, 1.0, 0.0, 0.0, 0.0, 1.0) : 1\n",
      "(1.0, 0.0, 0.0, 0.0, 0.0, 1.0, 0.0, 1.0, 0.0, 1.0) : 1\n",
      "(1.0, 0.0, 1.0, 0.0, 1.0, 1.0, 1.0, 1.0, 1.0, 0.0) : 1\n",
      "(1.0, 1.0, 0.0, 1.0, 0.0, 1.0, 0.0, 1.0, 0.0, 1.0) : 1\n",
      "(0.0, 0.0, 0.0, 0.0, 0.0, 1.0, 0.0, 0.0, 0.0, 1.0) : 1\n",
      "(1.0, 1.0, 1.0, 1.0, 0.0, 1.0, 0.0, 1.0, 0.0, 1.0) : 1\n",
      "(1.0, 1.0, 1.0, 1.0, 1.0, 1.0, 0.0, 1.0, 0.0, 0.0) : 1\n",
      "(0.0, 1.0, 0.0, 1.0, 1.0, 0.0, 0.0, 0.0, 0.0, 1.0) : 1\n",
      "(1.0, 1.0, 1.0, 1.0, 1.0, 1.0, 0.0, 1.0, 1.0, 0.0) : 1\n",
      "(1.0, 1.0, 1.0, 1.0, 1.0, 1.0, 1.0, 1.0, 1.0, 1.0) : 1\n",
      "(1.0, 0.0, 1.0, 1.0, 0.0, 1.0, 0.0, 1.0, 0.0, 1.0) : 1\n",
      "..........................3........................................\n",
      "(1.0, 0.0, 0.0, 0.0, 0.0, 0.0, 0.0, 0.0, 1.0, 1.0) : 10\n",
      "(1.0, 0.0, 0.0, 1.0, 0.0, 1.0, 0.0, 1.0, 0.0, 1.0) : 9\n",
      "(1.0, 0.0, 0.0, 1.0, 0.0, 1.0, 0.0, 1.0, 0.0, 0.0) : 9\n",
      "(1.0, 0.0, 0.0, 0.0, 0.0, 1.0, 0.0, 0.0, 0.0, 1.0) : 8\n",
      "(1.0, 0.0, 0.0, 0.0, 0.0, 1.0, 0.0, 1.0, 0.0, 0.0) : 7\n",
      "(1.0, 0.0, 1.0, 1.0, 0.0, 1.0, 1.0, 1.0, 1.0, 0.0) : 7\n",
      "(1.0, 0.0, 1.0, 1.0, 0.0, 1.0, 1.0, 1.0, 0.0, 0.0) : 6\n",
      "(1.0, 0.0, 0.0, 0.0, 0.0, 0.0, 0.0, 0.0, 0.0, 1.0) : 5\n",
      "(1.0, 0.0, 0.0, 1.0, 0.0, 1.0, 0.0, 1.0, 1.0, 1.0) : 4\n",
      "(1.0, 0.0, 1.0, 1.0, 0.0, 1.0, 1.0, 1.0, 1.0, 1.0) : 3\n",
      "(1.0, 0.0, 1.0, 0.0, 0.0, 1.0, 0.0, 1.0, 1.0, 0.0) : 3\n",
      "(1.0, 1.0, 0.0, 1.0, 0.0, 1.0, 1.0, 1.0, 0.0, 1.0) : 2\n",
      "(1.0, 1.0, 0.0, 1.0, 0.0, 1.0, 0.0, 0.0, 0.0, 1.0) : 2\n",
      "(1.0, 0.0, 1.0, 1.0, 0.0, 1.0, 0.0, 1.0, 0.0, 0.0) : 2\n",
      "(1.0, 0.0, 0.0, 0.0, 0.0, 1.0, 0.0, 1.0, 0.0, 1.0) : 2\n",
      "(0.0, 0.0, 0.0, 0.0, 0.0, 0.0, 0.0, 0.0, 0.0, 1.0) : 2\n",
      "(1.0, 0.0, 0.0, 1.0, 0.0, 1.0, 0.0, 0.0, 0.0, 1.0) : 2\n",
      "(1.0, 1.0, 1.0, 1.0, 0.0, 1.0, 1.0, 1.0, 0.0, 1.0) : 2\n",
      "(1.0, 0.0, 0.0, 1.0, 0.0, 0.0, 0.0, 1.0, 0.0, 1.0) : 2\n",
      "(1.0, 0.0, 1.0, 0.0, 0.0, 0.0, 0.0, 1.0, 1.0, 0.0) : 1\n",
      "(1.0, 0.0, 1.0, 1.0, 0.0, 0.0, 1.0, 1.0, 1.0, 0.0) : 1\n",
      "(0.0, 0.0, 0.0, 1.0, 0.0, 1.0, 0.0, 1.0, 0.0, 0.0) : 1\n",
      "(1.0, 0.0, 1.0, 0.0, 1.0, 0.0, 0.0, 1.0, 1.0, 1.0) : 1\n",
      "(0.0, 0.0, 0.0, 0.0, 0.0, 1.0, 0.0, 0.0, 0.0, 1.0) : 1\n",
      "(1.0, 0.0, 1.0, 0.0, 1.0, 0.0, 1.0, 1.0, 1.0, 0.0) : 1\n",
      "(1.0, 1.0, 0.0, 1.0, 0.0, 1.0, 0.0, 1.0, 0.0, 1.0) : 1\n",
      "(1.0, 0.0, 0.0, 1.0, 0.0, 0.0, 0.0, 1.0, 1.0, 1.0) : 1\n",
      "(0.0, 1.0, 0.0, 1.0, 1.0, 1.0, 0.0, 0.0, 0.0, 1.0) : 1\n",
      "(1.0, 0.0, 1.0, 0.0, 0.0, 0.0, 0.0, 0.0, 1.0, 0.0) : 1\n",
      "(1.0, 0.0, 0.0, 1.0, 0.0, 1.0, 1.0, 1.0, 0.0, 0.0) : 1\n",
      "(0.0, 1.0, 0.0, 1.0, 0.0, 1.0, 0.0, 0.0, 0.0, 1.0) : 1\n",
      "(1.0, 0.0, 0.0, 0.0, 1.0, 0.0, 0.0, 0.0, 1.0, 1.0) : 1\n",
      "(1.0, 0.0, 1.0, 0.0, 0.0, 1.0, 0.0, 1.0, 1.0, 1.0) : 1\n",
      "(1.0, 0.0, 1.0, 1.0, 0.0, 0.0, 0.0, 0.0, 1.0, 1.0) : 1\n",
      "(1.0, 0.0, 1.0, 1.0, 0.0, 1.0, 0.0, 1.0, 1.0, 0.0) : 1\n",
      "(1.0, 0.0, 1.0, 1.0, 0.0, 1.0, 1.0, 1.0, 0.0, 1.0) : 1\n",
      "(1.0, 0.0, 0.0, 1.0, 0.0, 1.0, 1.0, 1.0, 0.0, 1.0) : 1\n",
      "(1.0, 0.0, 0.0, 1.0, 0.0, 1.0, 1.0, 1.0, 1.0, 1.0) : 1\n",
      "(1.0, 1.0, 0.0, 0.0, 0.0, 1.0, 0.0, 0.0, 0.0, 1.0) : 1\n",
      "..........................4........................................\n",
      "(1.0, 0.0, 0.0, 0.0, 1.0, 0.0, 0.0, 0.0, 1.0, 1.0) : 23\n",
      "(1.0, 1.0, 0.0, 0.0, 1.0, 0.0, 0.0, 0.0, 1.0, 1.0) : 20\n",
      "(1.0, 1.0, 1.0, 0.0, 1.0, 0.0, 0.0, 0.0, 1.0, 1.0) : 11\n",
      "(0.0, 1.0, 0.0, 0.0, 1.0, 0.0, 0.0, 0.0, 0.0, 1.0) : 8\n",
      "(0.0, 1.0, 0.0, 0.0, 1.0, 0.0, 0.0, 0.0, 1.0, 1.0) : 7\n",
      "(1.0, 0.0, 1.0, 0.0, 1.0, 0.0, 0.0, 0.0, 1.0, 1.0) : 6\n",
      "(1.0, 0.0, 0.0, 0.0, 0.0, 0.0, 0.0, 0.0, 1.0, 1.0) : 4\n",
      "(0.0, 1.0, 0.0, 0.0, 1.0, 1.0, 0.0, 0.0, 0.0, 1.0) : 3\n",
      "(1.0, 1.0, 1.0, 1.0, 1.0, 0.0, 1.0, 0.0, 1.0, 1.0) : 3\n",
      "(1.0, 1.0, 0.0, 1.0, 1.0, 0.0, 0.0, 0.0, 1.0, 1.0) : 2\n",
      "(0.0, 0.0, 0.0, 0.0, 1.0, 0.0, 0.0, 0.0, 0.0, 1.0) : 2\n",
      "(1.0, 0.0, 1.0, 0.0, 1.0, 1.0, 0.0, 1.0, 0.0, 0.0) : 2\n",
      "(0.0, 0.0, 0.0, 0.0, 0.0, 0.0, 0.0, 0.0, 0.0, 1.0) : 2\n",
      "(1.0, 1.0, 0.0, 0.0, 1.0, 0.0, 0.0, 0.0, 0.0, 1.0) : 2\n",
      "(1.0, 1.0, 1.0, 1.0, 1.0, 1.0, 1.0, 1.0, 1.0, 0.0) : 1\n",
      "(1.0, 0.0, 0.0, 0.0, 0.0, 0.0, 0.0, 0.0, 0.0, 1.0) : 1\n",
      "(0.0, 0.0, 0.0, 0.0, 1.0, 0.0, 0.0, 0.0, 0.0, 0.0) : 1\n",
      "(1.0, 1.0, 0.0, 0.0, 1.0, 1.0, 0.0, 0.0, 1.0, 1.0) : 1\n",
      "(0.0, 0.0, 0.0, 0.0, 0.0, 1.0, 0.0, 0.0, 0.0, 0.0) : 1\n",
      "(0.0, 0.0, 0.0, 0.0, 1.0, 0.0, 0.0, 0.0, 1.0, 1.0) : 1\n",
      "(1.0, 0.0, 1.0, 0.0, 1.0, 0.0, 0.0, 0.0, 1.0, 0.0) : 1\n",
      "(0.0, 1.0, 0.0, 0.0, 1.0, 1.0, 0.0, 0.0, 1.0, 1.0) : 1\n",
      "(1.0, 0.0, 1.0, 0.0, 1.0, 0.0, 0.0, 1.0, 1.0, 1.0) : 1\n",
      "(0.0, 1.0, 0.0, 0.0, 0.0, 1.0, 0.0, 0.0, 0.0, 1.0) : 1\n",
      "(1.0, 1.0, 1.0, 1.0, 1.0, 0.0, 1.0, 1.0, 1.0, 1.0) : 1\n",
      "(1.0, 1.0, 1.0, 0.0, 1.0, 0.0, 0.0, 1.0, 1.0, 1.0) : 1\n",
      "(1.0, 1.0, 1.0, 1.0, 1.0, 0.0, 0.0, 0.0, 1.0, 1.0) : 1\n",
      "(0.0, 1.0, 0.0, 0.0, 1.0, 1.0, 0.0, 0.0, 0.0, 0.0) : 1\n",
      "(0.0, 1.0, 0.0, 1.0, 1.0, 0.0, 0.0, 0.0, 1.0, 1.0) : 1\n",
      "..........................5........................................\n",
      "(0.0, 1.0, 0.0, 1.0, 1.0, 1.0, 0.0, 0.0, 0.0, 1.0) : 11\n",
      "(1.0, 1.0, 0.0, 1.0, 0.0, 1.0, 0.0, 0.0, 0.0, 1.0) : 10\n",
      "(1.0, 0.0, 1.0, 1.0, 0.0, 1.0, 1.0, 1.0, 1.0, 0.0) : 5\n",
      "(0.0, 1.0, 0.0, 0.0, 1.0, 0.0, 0.0, 0.0, 0.0, 1.0) : 5\n",
      "(1.0, 0.0, 0.0, 1.0, 0.0, 1.0, 0.0, 1.0, 1.0, 1.0) : 4\n",
      "(1.0, 0.0, 1.0, 1.0, 0.0, 1.0, 0.0, 1.0, 1.0, 1.0) : 4\n",
      "(1.0, 1.0, 0.0, 1.0, 0.0, 1.0, 0.0, 0.0, 1.0, 1.0) : 4\n",
      "(1.0, 1.0, 0.0, 1.0, 1.0, 1.0, 0.0, 0.0, 1.0, 1.0) : 3\n",
      "(0.0, 1.0, 0.0, 1.0, 0.0, 1.0, 0.0, 0.0, 0.0, 1.0) : 2\n",
      "(1.0, 1.0, 0.0, 1.0, 0.0, 1.0, 0.0, 1.0, 0.0, 1.0) : 2\n",
      "(1.0, 1.0, 0.0, 1.0, 0.0, 1.0, 0.0, 1.0, 1.0, 1.0) : 2\n",
      "(0.0, 1.0, 0.0, 1.0, 0.0, 1.0, 0.0, 0.0, 0.0, 0.0) : 2\n",
      "(1.0, 0.0, 1.0, 0.0, 0.0, 1.0, 0.0, 1.0, 1.0, 0.0) : 2\n",
      "(1.0, 1.0, 0.0, 1.0, 0.0, 1.0, 1.0, 1.0, 0.0, 1.0) : 2\n",
      "(1.0, 0.0, 0.0, 1.0, 0.0, 1.0, 0.0, 1.0, 0.0, 0.0) : 2\n",
      "(1.0, 1.0, 0.0, 0.0, 1.0, 0.0, 0.0, 0.0, 1.0, 1.0) : 2\n",
      "(1.0, 0.0, 1.0, 0.0, 1.0, 0.0, 0.0, 0.0, 1.0, 0.0) : 1\n",
      "(1.0, 0.0, 1.0, 1.0, 0.0, 1.0, 1.0, 1.0, 1.0, 1.0) : 1\n",
      "(1.0, 1.0, 0.0, 1.0, 0.0, 0.0, 0.0, 0.0, 1.0, 1.0) : 1\n",
      "(1.0, 0.0, 1.0, 1.0, 0.0, 1.0, 0.0, 1.0, 1.0, 0.0) : 1\n",
      "(0.0, 1.0, 0.0, 1.0, 1.0, 1.0, 1.0, 1.0, 0.0, 1.0) : 1\n",
      "(0.0, 1.0, 0.0, 1.0, 1.0, 1.0, 0.0, 0.0, 0.0, 0.0) : 1\n",
      "(1.0, 0.0, 0.0, 0.0, 0.0, 1.0, 0.0, 0.0, 0.0, 1.0) : 1\n",
      "(0.0, 1.0, 0.0, 0.0, 0.0, 0.0, 0.0, 0.0, 0.0, 1.0) : 1\n",
      "(0.0, 1.0, 0.0, 1.0, 0.0, 1.0, 1.0, 1.0, 0.0, 1.0) : 1\n",
      "(0.0, 1.0, 0.0, 0.0, 1.0, 1.0, 0.0, 0.0, 0.0, 0.0) : 1\n",
      "(1.0, 0.0, 0.0, 0.0, 0.0, 1.0, 0.0, 1.0, 0.0, 0.0) : 1\n",
      "(1.0, 0.0, 1.0, 1.0, 0.0, 0.0, 0.0, 1.0, 1.0, 1.0) : 1\n",
      "(1.0, 0.0, 0.0, 1.0, 0.0, 1.0, 0.0, 1.0, 0.0, 1.0) : 1\n",
      "(1.0, 0.0, 0.0, 1.0, 0.0, 0.0, 0.0, 0.0, 1.0, 1.0) : 1\n",
      "(1.0, 0.0, 0.0, 0.0, 0.0, 1.0, 0.0, 1.0, 1.0, 0.0) : 1\n",
      "(1.0, 1.0, 0.0, 1.0, 1.0, 1.0, 0.0, 0.0, 0.0, 1.0) : 1\n",
      "(1.0, 0.0, 1.0, 1.0, 0.0, 0.0, 1.0, 1.0, 1.0, 1.0) : 1\n",
      "(1.0, 1.0, 1.0, 1.0, 0.0, 0.0, 1.0, 1.0, 1.0, 1.0) : 1\n",
      "(1.0, 1.0, 0.0, 1.0, 0.0, 1.0, 1.0, 1.0, 1.0, 1.0) : 1\n",
      "(1.0, 1.0, 1.0, 1.0, 0.0, 1.0, 1.0, 1.0, 1.0, 1.0) : 1\n",
      "(1.0, 0.0, 1.0, 0.0, 1.0, 0.0, 0.0, 1.0, 1.0, 1.0) : 1\n",
      "(1.0, 0.0, 0.0, 1.0, 0.0, 0.0, 0.0, 1.0, 1.0, 1.0) : 1\n",
      "(0.0, 1.0, 0.0, 0.0, 0.0, 1.0, 0.0, 0.0, 0.0, 1.0) : 1\n",
      "(0.0, 0.0, 0.0, 1.0, 0.0, 1.0, 0.0, 1.0, 0.0, 1.0) : 1\n",
      "(1.0, 0.0, 0.0, 1.0, 1.0, 1.0, 0.0, 0.0, 1.0, 1.0) : 1\n",
      "..........................6........................................\n",
      "(1.0, 0.0, 1.0, 0.0, 1.0, 0.0, 0.0, 1.0, 1.0, 0.0) : 22\n",
      "(1.0, 0.0, 1.0, 0.0, 1.0, 1.0, 0.0, 1.0, 1.0, 0.0) : 17\n",
      "(1.0, 0.0, 0.0, 0.0, 0.0, 1.0, 0.0, 1.0, 0.0, 0.0) : 11\n",
      "(1.0, 0.0, 1.0, 0.0, 1.0, 0.0, 1.0, 1.0, 1.0, 0.0) : 7\n",
      "(1.0, 0.0, 1.0, 0.0, 1.0, 1.0, 0.0, 1.0, 0.0, 0.0) : 4\n",
      "(1.0, 0.0, 1.0, 0.0, 1.0, 1.0, 1.0, 1.0, 1.0, 0.0) : 3\n",
      "(1.0, 0.0, 1.0, 1.0, 1.0, 1.0, 1.0, 1.0, 1.0, 0.0) : 2\n",
      "(1.0, 0.0, 1.0, 1.0, 1.0, 1.0, 0.0, 1.0, 0.0, 0.0) : 2\n",
      "(1.0, 0.0, 1.0, 0.0, 0.0, 1.0, 0.0, 1.0, 1.0, 0.0) : 2\n",
      "(1.0, 0.0, 0.0, 0.0, 0.0, 1.0, 0.0, 0.0, 0.0, 0.0) : 2\n",
      "(1.0, 0.0, 0.0, 0.0, 1.0, 1.0, 0.0, 1.0, 0.0, 0.0) : 2\n",
      "(0.0, 0.0, 0.0, 0.0, 1.0, 1.0, 0.0, 1.0, 0.0, 0.0) : 1\n",
      "(0.0, 1.0, 0.0, 1.0, 0.0, 1.0, 0.0, 0.0, 0.0, 0.0) : 1\n",
      "(0.0, 0.0, 0.0, 0.0, 0.0, 1.0, 0.0, 1.0, 0.0, 0.0) : 1\n",
      "(1.0, 0.0, 1.0, 0.0, 1.0, 0.0, 0.0, 1.0, 1.0, 1.0) : 1\n",
      "(1.0, 0.0, 1.0, 0.0, 1.0, 1.0, 0.0, 0.0, 1.0, 0.0) : 1\n",
      "(0.0, 1.0, 1.0, 1.0, 1.0, 1.0, 1.0, 1.0, 1.0, 0.0) : 1\n",
      "(1.0, 0.0, 0.0, 1.0, 0.0, 1.0, 0.0, 1.0, 0.0, 0.0) : 1\n",
      "(1.0, 1.0, 0.0, 1.0, 0.0, 1.0, 0.0, 1.0, 0.0, 0.0) : 1\n",
      "(1.0, 1.0, 1.0, 1.0, 1.0, 0.0, 1.0, 1.0, 1.0, 0.0) : 1\n",
      "(1.0, 0.0, 1.0, 1.0, 1.0, 0.0, 1.0, 1.0, 1.0, 0.0) : 1\n",
      "(0.0, 0.0, 0.0, 0.0, 0.0, 1.0, 0.0, 0.0, 0.0, 0.0) : 1\n",
      "(1.0, 1.0, 1.0, 0.0, 1.0, 0.0, 0.0, 1.0, 1.0, 0.0) : 1\n",
      "(0.0, 1.0, 1.0, 1.0, 1.0, 1.0, 1.0, 1.0, 0.0, 0.0) : 1\n",
      "..........................7........................................\n"
     ]
    },
    {
     "name": "stdout",
     "output_type": "stream",
     "text": [
      "(0.0, 1.0, 0.0, 0.0, 1.0, 0.0, 0.0, 0.0, 0.0, 1.0) : 20\n",
      "(0.0, 1.0, 0.0, 0.0, 1.0, 0.0, 0.0, 0.0, 1.0, 1.0) : 16\n",
      "(0.0, 0.0, 0.0, 0.0, 0.0, 0.0, 0.0, 0.0, 0.0, 1.0) : 14\n",
      "(1.0, 1.0, 0.0, 0.0, 1.0, 0.0, 0.0, 0.0, 1.0, 1.0) : 10\n",
      "(1.0, 0.0, 0.0, 0.0, 0.0, 0.0, 0.0, 0.0, 1.0, 1.0) : 6\n",
      "(0.0, 1.0, 0.0, 0.0, 0.0, 0.0, 0.0, 0.0, 0.0, 1.0) : 6\n",
      "(0.0, 0.0, 0.0, 0.0, 1.0, 0.0, 0.0, 0.0, 0.0, 1.0) : 5\n",
      "(1.0, 0.0, 0.0, 0.0, 1.0, 0.0, 0.0, 0.0, 1.0, 1.0) : 4\n",
      "(0.0, 1.0, 0.0, 0.0, 0.0, 1.0, 0.0, 0.0, 0.0, 1.0) : 3\n",
      "(0.0, 1.0, 0.0, 0.0, 1.0, 1.0, 0.0, 0.0, 0.0, 1.0) : 2\n",
      "(0.0, 1.0, 0.0, 1.0, 1.0, 1.0, 0.0, 0.0, 0.0, 1.0) : 2\n",
      "(1.0, 1.0, 0.0, 0.0, 1.0, 0.0, 0.0, 0.0, 0.0, 1.0) : 1\n",
      "(0.0, 1.0, 0.0, 1.0, 0.0, 1.0, 0.0, 0.0, 0.0, 1.0) : 1\n",
      "(0.0, 0.0, 0.0, 0.0, 1.0, 0.0, 0.0, 0.0, 1.0, 1.0) : 1\n",
      "(0.0, 0.0, 0.0, 0.0, 0.0, 0.0, 0.0, 0.0, 1.0, 1.0) : 1\n",
      "(0.0, 1.0, 0.0, 1.0, 1.0, 0.0, 0.0, 0.0, 1.0, 1.0) : 1\n",
      "(0.0, 0.0, 0.0, 0.0, 0.0, 0.0, 0.0, 0.0, 0.0, 0.0) : 1\n",
      "(1.0, 0.0, 0.0, 0.0, 1.0, 0.0, 0.0, 0.0, 0.0, 1.0) : 1\n",
      "(1.0, 1.0, 1.0, 1.0, 1.0, 0.0, 0.0, 0.0, 1.0, 1.0) : 1\n",
      "(1.0, 1.0, 1.0, 0.0, 1.0, 0.0, 0.0, 0.0, 1.0, 1.0) : 1\n",
      "(1.0, 0.0, 0.0, 0.0, 0.0, 0.0, 0.0, 0.0, 0.0, 1.0) : 1\n",
      "(0.0, 0.0, 0.0, 0.0, 0.0, 1.0, 0.0, 0.0, 0.0, 1.0) : 1\n",
      "..........................8........................................\n",
      "(1.0, 1.0, 0.0, 0.0, 0.0, 1.0, 0.0, 0.0, 0.0, 1.0) : 6\n",
      "(1.0, 0.0, 0.0, 0.0, 0.0, 1.0, 0.0, 0.0, 0.0, 1.0) : 6\n",
      "(1.0, 0.0, 0.0, 0.0, 0.0, 1.0, 0.0, 1.0, 0.0, 1.0) : 5\n",
      "(0.0, 1.0, 0.0, 1.0, 1.0, 1.0, 0.0, 0.0, 0.0, 1.0) : 5\n",
      "(1.0, 1.0, 0.0, 1.0, 1.0, 1.0, 0.0, 0.0, 1.0, 1.0) : 4\n",
      "(1.0, 1.0, 0.0, 1.0, 0.0, 1.0, 0.0, 0.0, 0.0, 1.0) : 4\n",
      "(1.0, 0.0, 0.0, 0.0, 0.0, 1.0, 0.0, 1.0, 0.0, 0.0) : 4\n",
      "(1.0, 0.0, 0.0, 0.0, 1.0, 0.0, 0.0, 0.0, 1.0, 1.0) : 4\n",
      "(0.0, 1.0, 0.0, 1.0, 0.0, 1.0, 0.0, 0.0, 0.0, 1.0) : 4\n",
      "(1.0, 0.0, 0.0, 0.0, 0.0, 1.0, 0.0, 0.0, 1.0, 1.0) : 4\n",
      "(0.0, 0.0, 0.0, 0.0, 0.0, 1.0, 0.0, 0.0, 0.0, 0.0) : 4\n",
      "(1.0, 0.0, 1.0, 1.0, 0.0, 1.0, 1.0, 1.0, 1.0, 1.0) : 3\n",
      "(1.0, 0.0, 0.0, 0.0, 0.0, 0.0, 0.0, 0.0, 1.0, 1.0) : 3\n",
      "(0.0, 1.0, 0.0, 0.0, 0.0, 1.0, 0.0, 0.0, 0.0, 1.0) : 3\n",
      "(1.0, 1.0, 0.0, 1.0, 0.0, 1.0, 0.0, 1.0, 0.0, 1.0) : 2\n",
      "(0.0, 1.0, 0.0, 0.0, 1.0, 0.0, 0.0, 0.0, 1.0, 1.0) : 2\n",
      "(1.0, 1.0, 0.0, 1.0, 1.0, 1.0, 0.0, 1.0, 1.0, 1.0) : 2\n",
      "(0.0, 1.0, 0.0, 1.0, 1.0, 1.0, 0.0, 1.0, 0.0, 0.0) : 1\n",
      "(1.0, 0.0, 1.0, 1.0, 0.0, 1.0, 0.0, 1.0, 0.0, 0.0) : 1\n",
      "(1.0, 1.0, 0.0, 0.0, 1.0, 0.0, 0.0, 0.0, 0.0, 1.0) : 1\n",
      "(1.0, 1.0, 0.0, 0.0, 0.0, 1.0, 0.0, 0.0, 1.0, 1.0) : 1\n",
      "(1.0, 1.0, 0.0, 0.0, 1.0, 1.0, 0.0, 0.0, 0.0, 1.0) : 1\n",
      "(1.0, 0.0, 0.0, 1.0, 0.0, 1.0, 0.0, 0.0, 0.0, 1.0) : 1\n",
      "(1.0, 1.0, 0.0, 0.0, 1.0, 0.0, 0.0, 0.0, 1.0, 1.0) : 1\n",
      "(1.0, 0.0, 1.0, 1.0, 1.0, 1.0, 1.0, 1.0, 0.0, 0.0) : 1\n",
      "(1.0, 1.0, 1.0, 1.0, 0.0, 1.0, 1.0, 1.0, 1.0, 1.0) : 1\n",
      "(1.0, 0.0, 0.0, 0.0, 0.0, 1.0, 0.0, 0.0, 0.0, 0.0) : 1\n",
      "(1.0, 0.0, 1.0, 0.0, 1.0, 1.0, 0.0, 1.0, 1.0, 0.0) : 1\n",
      "(1.0, 0.0, 0.0, 1.0, 0.0, 1.0, 0.0, 1.0, 0.0, 0.0) : 1\n",
      "(1.0, 0.0, 0.0, 1.0, 0.0, 1.0, 0.0, 1.0, 0.0, 1.0) : 1\n",
      "(0.0, 1.0, 0.0, 1.0, 0.0, 1.0, 1.0, 1.0, 0.0, 0.0) : 1\n",
      "(1.0, 0.0, 1.0, 1.0, 0.0, 1.0, 0.0, 0.0, 1.0, 1.0) : 1\n",
      "(1.0, 0.0, 1.0, 0.0, 1.0, 0.0, 0.0, 0.0, 1.0, 1.0) : 1\n",
      "(1.0, 0.0, 1.0, 1.0, 0.0, 1.0, 0.0, 1.0, 1.0, 1.0) : 1\n",
      "(1.0, 1.0, 0.0, 1.0, 0.0, 1.0, 1.0, 1.0, 0.0, 1.0) : 1\n",
      "(1.0, 1.0, 0.0, 0.0, 0.0, 0.0, 0.0, 0.0, 0.0, 1.0) : 1\n",
      "(1.0, 0.0, 1.0, 0.0, 1.0, 0.0, 0.0, 1.0, 1.0, 0.0) : 1\n",
      "(1.0, 0.0, 1.0, 0.0, 0.0, 0.0, 0.0, 1.0, 1.0, 1.0) : 1\n",
      "(1.0, 0.0, 0.0, 1.0, 0.0, 1.0, 0.0, 0.0, 1.0, 1.0) : 1\n",
      "(1.0, 0.0, 0.0, 1.0, 1.0, 1.0, 0.0, 1.0, 1.0, 1.0) : 1\n",
      "(1.0, 1.0, 1.0, 1.0, 1.0, 0.0, 0.0, 1.0, 1.0, 1.0) : 1\n",
      "..........................9........................................\n",
      "(1.0, 0.0, 0.0, 0.0, 1.0, 0.0, 0.0, 0.0, 1.0, 1.0) : 28\n",
      "(1.0, 1.0, 0.0, 0.0, 1.0, 0.0, 0.0, 0.0, 1.0, 1.0) : 21\n",
      "(0.0, 1.0, 0.0, 0.0, 1.0, 0.0, 0.0, 0.0, 0.0, 1.0) : 11\n",
      "(0.0, 1.0, 0.0, 0.0, 1.0, 0.0, 0.0, 0.0, 1.0, 1.0) : 11\n",
      "(1.0, 0.0, 1.0, 0.0, 1.0, 0.0, 0.0, 0.0, 1.0, 1.0) : 4\n",
      "(0.0, 1.0, 0.0, 0.0, 0.0, 1.0, 0.0, 0.0, 0.0, 1.0) : 3\n",
      "(1.0, 0.0, 0.0, 0.0, 0.0, 0.0, 0.0, 0.0, 1.0, 1.0) : 3\n",
      "(1.0, 1.0, 1.0, 0.0, 1.0, 0.0, 0.0, 0.0, 1.0, 1.0) : 2\n",
      "(0.0, 0.0, 0.0, 0.0, 0.0, 1.0, 0.0, 0.0, 0.0, 1.0) : 1\n",
      "(0.0, 1.0, 0.0, 0.0, 1.0, 1.0, 0.0, 0.0, 0.0, 1.0) : 1\n",
      "(1.0, 0.0, 1.0, 0.0, 0.0, 0.0, 0.0, 0.0, 1.0, 1.0) : 1\n",
      "(1.0, 1.0, 0.0, 1.0, 1.0, 1.0, 0.0, 0.0, 1.0, 1.0) : 1\n",
      "(0.0, 0.0, 0.0, 0.0, 0.0, 0.0, 0.0, 0.0, 0.0, 1.0) : 1\n",
      "(0.0, 0.0, 0.0, 0.0, 1.0, 0.0, 0.0, 0.0, 0.0, 1.0) : 1\n",
      "(1.0, 0.0, 0.0, 0.0, 0.0, 0.0, 0.0, 0.0, 0.0, 1.0) : 1\n",
      "(1.0, 0.0, 0.0, 0.0, 1.0, 0.0, 0.0, 0.0, 0.0, 1.0) : 1\n",
      "(0.0, 1.0, 0.0, 0.0, 0.0, 0.0, 0.0, 0.0, 0.0, 1.0) : 1\n",
      "(0.0, 0.0, 0.0, 0.0, 1.0, 0.0, 0.0, 0.0, 1.0, 1.0) : 1\n",
      "(0.0, 1.0, 0.0, 1.0, 1.0, 1.0, 0.0, 0.0, 0.0, 1.0) : 1\n"
     ]
    }
   ],
   "source": [
    "#fig = plt.figure(figsize=(2, 6))\n",
    "test_dataset = MNIST('data', train=False, transform=data_transform, download=True)\n",
    "from collections import Counter\n",
    "import operator\n",
    "for digit in range(0,10):\n",
    "    print(\"..........................{}........................................\".format(digit))\n",
    "    target_classes = Counter()\n",
    "    for i in range(0, 1000):\n",
    "        image, target = test_dataset[i]\n",
    "        if target == digit:\n",
    "            x = network.sample_h_given_v(Variable(image.unsqueeze(0)))\n",
    "            x = network2.sample_h_given_v(x)\n",
    "            target_classes[tuple(x.data[0])] += 1\n",
    "            #print(\"Target {}: {}\".format(target, list(x)))\n",
    "    for k, c in sorted(target_classes.items(), key=operator.itemgetter(1), reverse=True):\n",
    "        print(k, \":\", c)"
   ]
  },
  {
   "cell_type": "code",
   "execution_count": 33,
   "metadata": {},
   "outputs": [
    {
     "data": {
      "image/png": "[encoded data removed]",
      "text/plain": [
       "<Figure size 288x288 with 1 Axes>"
      ]
     },
     "metadata": {},
     "output_type": "display_data"
    }
   ],
   "source": [
    "#x = network2.sample_v_given_h(torch.Tensor([1.0, 1.0, 0.0, 1.0, 0.0, 0.0, 0.0, 1.0, 0.0, 1.0]))\n",
    "#for _ in range(20):\n",
    "x = network2.sample_v_given_h(torch.bernoulli(Variable(torch.ones(1,10)*0.5)))\n",
    "x = network.sample_v_given_h(x)\n",
    "digitplot(x.data)"
   ]
  },
  {
   "cell_type": "code",
   "execution_count": 34,
   "metadata": {},
   "outputs": [],
   "source": [
    "torch.save(network.state_dict(), 'models_saved/network1.model')\n",
    "torch.save(network2.state_dict(), 'models_saved/network2.model')"
   ]
  }
 ],
 "metadata": {
  "kernelspec": {
   "display_name": "Python 3",
   "language": "python",
   "name": "python3"
  },
  "language_info": {
   "codemirror_mode": {
    "name": "ipython",
    "version": 3
   },
   "file_extension": ".py",
   "mimetype": "text/x-python",
   "name": "python",
   "nbconvert_exporter": "python",
   "pygments_lexer": "ipython3",
   "version": "3.6.5"
  }
 },
 "nbformat": 4,
 "nbformat_minor": 2
}
